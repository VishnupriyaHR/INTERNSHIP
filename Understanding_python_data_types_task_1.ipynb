{
  "nbformat": 4,
  "nbformat_minor": 0,
  "metadata": {
    "colab": {
      "provenance": [],
      "authorship_tag": "ABX9TyPfDaUK8NZZ6TElGVWEn2xP",
      "include_colab_link": true
    },
    "kernelspec": {
      "name": "python3",
      "display_name": "Python 3"
    },
    "language_info": {
      "name": "python"
    }
  },
  "cells": [
    {
      "cell_type": "markdown",
      "metadata": {
        "id": "view-in-github",
        "colab_type": "text"
      },
      "source": [
        "<a href=\"https://colab.research.google.com/github/VishnupriyaHR/INTERNSHIP/blob/main/Understanding_python_data_types_task_1.ipynb\" target=\"_parent\"><img src=\"https://colab.research.google.com/assets/colab-badge.svg\" alt=\"Open In Colab\"/></a>"
      ]
    },
    {
      "cell_type": "code",
      "execution_count": null,
      "metadata": {
        "id": "8kZj99hdkk69"
      },
      "outputs": [],
      "source": []
    },
    {
      "cell_type": "markdown",
      "source": [
        "#**DESCRIPTION**\n",
        "\n",
        "This task involves understanding the basic data\n",
        "types in Python such as lists, dictionaries, and\n",
        "sets.\n",
        "\n",
        "\n",
        "\n",
        "#**RESPONSIBILITY:**\n",
        "\n",
        "Write a Python program to create a list, a\n",
        "dictionary, and a set. Perform basic operations\n",
        "like adding, removing, and modifying\n",
        "elements**"
      ],
      "metadata": {
        "id": "1wvcYOVxkoeB"
      }
    },
    {
      "cell_type": "markdown",
      "source": [
        "#**LISTS**"
      ],
      "metadata": {
        "id": "BI0ht8x6l6tf"
      }
    },
    {
      "cell_type": "markdown",
      "source": [
        "**Creating empty list**"
      ],
      "metadata": {
        "id": "t2x_zNcdmaTU"
      }
    },
    {
      "cell_type": "code",
      "source": [
        "a=[]"
      ],
      "metadata": {
        "id": "ft5X7CFUkyQV"
      },
      "execution_count": null,
      "outputs": []
    },
    {
      "cell_type": "code",
      "source": [
        "b=[]"
      ],
      "metadata": {
        "id": "JwCxE_c7mqAd"
      },
      "execution_count": null,
      "outputs": []
    },
    {
      "cell_type": "code",
      "source": [
        "c=[]"
      ],
      "metadata": {
        "id": "T9lY11_0qck0"
      },
      "execution_count": null,
      "outputs": []
    },
    {
      "cell_type": "code",
      "source": [
        "d=[]"
      ],
      "metadata": {
        "id": "16TekJ6qrrUE"
      },
      "execution_count": null,
      "outputs": []
    },
    {
      "cell_type": "code",
      "source": [
        "e=[]"
      ],
      "metadata": {
        "id": "V2X_ml8fyd9i"
      },
      "execution_count": null,
      "outputs": []
    },
    {
      "cell_type": "code",
      "source": [
        "f=[]"
      ],
      "metadata": {
        "id": "3r_YvKbOyfmM"
      },
      "execution_count": null,
      "outputs": []
    },
    {
      "cell_type": "markdown",
      "source": [
        "**Adding elements to list**"
      ],
      "metadata": {
        "id": "dRw4uaycojM5"
      }
    },
    {
      "cell_type": "code",
      "source": [
        "\n",
        "a = [\n",
        "    \"Andhra Pradesh\", \"Arunachal Pradesh\", \"Assam\", \"Bihar\", \"Chhattisgarh\", \"Goa\", \"Gujarat\",\n",
        "    \"Haryana\", \"Himachal Pradesh\", \"Jharkhand\", \"Karnataka\", \"Kerala\", \"Madhya Pradesh\",\n",
        "    \"Maharashtra\", \"Manipur\", \"Meghalaya\", \"Mizoram\", \"Nagaland\", \"Odisha\", \"Punjab\",\n",
        "    \"Rajasthan\", \"Sikkim\", \"Tamil Nadu\", \"Telangana\", \"Tripura\", \"Uttar Pradesh\",\n",
        "    \"Uttarakhand\", \"West Bengal\", \"Andaman and Nicobar Islands\", \"Chandigarh\"\n",
        "]\n"
      ],
      "metadata": {
        "id": "qmieB6_oqQXY"
      },
      "execution_count": null,
      "outputs": []
    },
    {
      "cell_type": "markdown",
      "source": [
        "**Printing the elements**"
      ],
      "metadata": {
        "id": "dMb4UY-9vikE"
      }
    },
    {
      "cell_type": "code",
      "source": [
        "a"
      ],
      "metadata": {
        "id": "Zqx7hGSbruCO",
        "colab": {
          "base_uri": "https://localhost:8080/"
        },
        "outputId": "482fbac6-a9f5-4a4c-a655-ef19e67881c3"
      },
      "execution_count": null,
      "outputs": [
        {
          "output_type": "execute_result",
          "data": {
            "text/plain": [
              "['Andhra Pradesh',\n",
              " 'Arunachal Pradesh',\n",
              " 'Assam',\n",
              " 'Bihar',\n",
              " 'Chhattisgarh',\n",
              " 'Goa',\n",
              " 'Gujarat',\n",
              " 'Haryana',\n",
              " 'Himachal Pradesh',\n",
              " 'Jharkhand',\n",
              " 'Karnataka',\n",
              " 'Kerala',\n",
              " 'Madhya Pradesh',\n",
              " 'Maharashtra',\n",
              " 'Manipur',\n",
              " 'Meghalaya',\n",
              " 'Mizoram',\n",
              " 'Nagaland',\n",
              " 'Odisha',\n",
              " 'Punjab',\n",
              " 'Rajasthan',\n",
              " 'Sikkim',\n",
              " 'Tamil Nadu',\n",
              " 'Telangana',\n",
              " 'Tripura',\n",
              " 'Uttar Pradesh',\n",
              " 'Uttarakhand',\n",
              " 'West Bengal',\n",
              " 'Andaman and Nicobar Islands',\n",
              " 'Chandigarh']"
            ]
          },
          "metadata": {},
          "execution_count": 18
        }
      ]
    },
    {
      "cell_type": "markdown",
      "source": [
        "**list allow the duplicates**\n",
        "\n",
        "**list with data type string**"
      ],
      "metadata": {
        "id": "_Rzq9dzbwXUj"
      }
    },
    {
      "cell_type": "code",
      "source": [
        "b=[\"banglore\",\"chikkaballapura\",\"dharwad\",\"ballari\",\"banglore\",\"tumkur\",\"doddaballapur\",\"ballari\"]"
      ],
      "metadata": {
        "id": "cQf886uRwq92"
      },
      "execution_count": null,
      "outputs": []
    },
    {
      "cell_type": "code",
      "source": [
        "b"
      ],
      "metadata": {
        "colab": {
          "base_uri": "https://localhost:8080/"
        },
        "id": "wxpRCxRrxOTK",
        "outputId": "29648d1a-f8b2-4449-d1fa-237c78df4e80"
      },
      "execution_count": null,
      "outputs": [
        {
          "output_type": "execute_result",
          "data": {
            "text/plain": [
              "['banglore',\n",
              " 'chikkaballapura',\n",
              " 'dharwad',\n",
              " 'ballari',\n",
              " 'banglore',\n",
              " 'tumkur',\n",
              " 'doddaballapur',\n",
              " 'ballari']"
            ]
          },
          "metadata": {},
          "execution_count": 20
        }
      ]
    },
    {
      "cell_type": "markdown",
      "source": [
        "**list with data type integer**"
      ],
      "metadata": {
        "id": "VD6uUD7Zx7Jw"
      }
    },
    {
      "cell_type": "code",
      "source": [
        "c=[2000,4000,2000,5600,4090,1423,7257]"
      ],
      "metadata": {
        "id": "qv7BdITvxlP-"
      },
      "execution_count": null,
      "outputs": []
    },
    {
      "cell_type": "code",
      "source": [
        "c"
      ],
      "metadata": {
        "colab": {
          "base_uri": "https://localhost:8080/"
        },
        "id": "kcgd0VYBxyGi",
        "outputId": "78cb5da9-90e1-413f-aa8f-e8ca85de5d57"
      },
      "execution_count": null,
      "outputs": [
        {
          "output_type": "execute_result",
          "data": {
            "text/plain": [
              "[2000, 4000, 2000, 5600, 4090, 1423, 7257]"
            ]
          },
          "metadata": {},
          "execution_count": 22
        }
      ]
    },
    {
      "cell_type": "markdown",
      "source": [
        "**list with data type float**"
      ],
      "metadata": {
        "id": "32cVZpezyEUW"
      }
    },
    {
      "cell_type": "code",
      "source": [
        "d=[12.454,76.897,098.234,098.8657,456776.87677]"
      ],
      "metadata": {
        "id": "X3MvYq51yIvV"
      },
      "execution_count": null,
      "outputs": []
    },
    {
      "cell_type": "code",
      "source": [
        "d"
      ],
      "metadata": {
        "colab": {
          "base_uri": "https://localhost:8080/"
        },
        "id": "RgVXYtS1yQqD",
        "outputId": "003cb446-a0b2-4040-cb9f-fa4f849b93d5"
      },
      "execution_count": null,
      "outputs": [
        {
          "output_type": "execute_result",
          "data": {
            "text/plain": [
              "[12.454, 76.897, 98.234, 98.8657, 456776.87677]"
            ]
          },
          "metadata": {},
          "execution_count": 24
        }
      ]
    },
    {
      "cell_type": "markdown",
      "source": [
        "**list with datatype boolean**"
      ],
      "metadata": {
        "id": "aWZ1J8azyUzd"
      }
    },
    {
      "cell_type": "code",
      "source": [
        "e=[True,False,True,True,False]"
      ],
      "metadata": {
        "id": "2K5j-EV2ybh1"
      },
      "execution_count": null,
      "outputs": []
    },
    {
      "cell_type": "code",
      "source": [
        "e"
      ],
      "metadata": {
        "colab": {
          "base_uri": "https://localhost:8080/"
        },
        "id": "EL0I0SZoytMA",
        "outputId": "403e9c3f-61cc-47ab-aef6-a9303a599192"
      },
      "execution_count": null,
      "outputs": [
        {
          "output_type": "execute_result",
          "data": {
            "text/plain": [
              "[True, False, True, True, False]"
            ]
          },
          "metadata": {},
          "execution_count": 29
        }
      ]
    },
    {
      "cell_type": "markdown",
      "source": [
        "**A list can contain different data types**\n",
        "\n",
        "**A list with strings, integers ,floats and boolean values**\n",
        "\n",
        "\n",
        "\n"
      ],
      "metadata": {
        "id": "HMQkslJFzAR2"
      }
    },
    {
      "cell_type": "code",
      "source": [
        "f=[\"apple\",\"mango\",\"banana\",\"grapes\",165,345,76,345.56,87.345,98.98,True,False]"
      ],
      "metadata": {
        "id": "w3sADgCXzH9q"
      },
      "execution_count": null,
      "outputs": []
    },
    {
      "cell_type": "code",
      "source": [
        "f"
      ],
      "metadata": {
        "colab": {
          "base_uri": "https://localhost:8080/"
        },
        "id": "wJO4wXX_zmi_",
        "outputId": "969e0492-0293-4d2a-bcb6-8ec0ae6ac58f"
      },
      "execution_count": null,
      "outputs": [
        {
          "output_type": "execute_result",
          "data": {
            "text/plain": [
              "['apple',\n",
              " 'mango',\n",
              " 'banana',\n",
              " 'grapes',\n",
              " 165,\n",
              " 345,\n",
              " 76,\n",
              " 345.56,\n",
              " 87.345,\n",
              " 98.98,\n",
              " True,\n",
              " False]"
            ]
          },
          "metadata": {},
          "execution_count": 31
        }
      ]
    },
    {
      "cell_type": "code",
      "source": [
        ",\n",
        "    \"Dadra and Nagar Haveli and Daman and Diu\", \"Lakshadweep\", \"Delhi\", \"Puducherry\""
      ],
      "metadata": {
        "id": "EoeeKfklvxzr"
      },
      "execution_count": null,
      "outputs": []
    },
    {
      "cell_type": "markdown",
      "source": [
        "**lists are defined as objects with the data type so that type() function is used**"
      ],
      "metadata": {
        "id": "yq1sTbp9v1yv"
      }
    },
    {
      "cell_type": "code",
      "source": [
        "a = [\n",
        "    \"Andhra Pradesh\", \"Arunachal Pradesh\", \"Assam\", \"Bihar\", \"Chhattisgarh\", \"Goa\", \"Gujarat\",\n",
        "    \"Haryana\", \"Himachal Pradesh\", \"Jharkhand\", \"Karnataka\", \"Kerala\", \"Madhya Pradesh\",\n",
        "    \"Maharashtra\", \"Manipur\", \"Meghalaya\", \"Mizoram\", \"Nagaland\", \"Odisha\", \"Punjab\",\n",
        "    \"Rajasthan\", \"Sikkim\", \"Tamil Nadu\", \"Telangana\", \"Tripura\", \"Uttar Pradesh\",\n",
        "    \"Uttarakhand\", \"West Bengal\", \"Andaman and Nicobar Islands\", \"Chandigarh\"\n",
        "]\n",
        "print(type(a))"
      ],
      "metadata": {
        "colab": {
          "base_uri": "https://localhost:8080/"
        },
        "id": "BNhjchayz8nx",
        "outputId": "7bfe392b-98bd-49b1-884b-d02ec624c742"
      },
      "execution_count": null,
      "outputs": [
        {
          "output_type": "stream",
          "name": "stdout",
          "text": [
            "<class 'list'>\n"
          ]
        }
      ]
    },
    {
      "cell_type": "markdown",
      "source": [
        "**List items are indexed and you can access them by referring to the index number**"
      ],
      "metadata": {
        "id": "NtXJYI9W00Vo"
      }
    },
    {
      "cell_type": "code",
      "source": [
        "a = [\n",
        "    \"Andhra Pradesh\", \"Arunachal Pradesh\", \"Assam\", \"Bihar\", \"Chhattisgarh\", \"Goa\", \"Gujarat\",\n",
        "    \"Haryana\", \"Himachal Pradesh\", \"Jharkhand\", \"Karnataka\", \"Kerala\", \"Madhya Pradesh\",\n",
        "    \"Maharashtra\", \"Manipur\", \"Meghalaya\", \"Mizoram\", \"Nagaland\", \"Odisha\", \"Punjab\",\n",
        "    \"Rajasthan\", \"Sikkim\", \"Tamil Nadu\", \"Telangana\", \"Tripura\", \"Uttar Pradesh\",\n",
        "    \"Uttarakhand\", \"West Bengal\", \"Andaman and Nicobar Islands\", \"Chandigarh\"\n",
        "]\n",
        "print(a[1])\n"
      ],
      "metadata": {
        "colab": {
          "base_uri": "https://localhost:8080/"
        },
        "id": "agBRKvgg08Dw",
        "outputId": "f5b09179-7585-4a19-8b48-c77dae5acabc"
      },
      "execution_count": null,
      "outputs": [
        {
          "output_type": "stream",
          "name": "stdout",
          "text": [
            "Arunachal Pradesh\n"
          ]
        }
      ]
    },
    {
      "cell_type": "code",
      "source": [
        "print(a[2])"
      ],
      "metadata": {
        "colab": {
          "base_uri": "https://localhost:8080/"
        },
        "id": "Vm8sSOp81d9n",
        "outputId": "84281bb8-17c0-411e-e8b4-64326b179dc8"
      },
      "execution_count": null,
      "outputs": [
        {
          "output_type": "stream",
          "name": "stdout",
          "text": [
            "Assam\n"
          ]
        }
      ]
    },
    {
      "cell_type": "code",
      "source": [
        "print(a[3])"
      ],
      "metadata": {
        "colab": {
          "base_uri": "https://localhost:8080/"
        },
        "id": "UrxYJ_or1f3h",
        "outputId": "55efe687-ebdb-4b51-adc4-3a7536fb7040"
      },
      "execution_count": null,
      "outputs": [
        {
          "output_type": "stream",
          "name": "stdout",
          "text": [
            "Bihar\n"
          ]
        }
      ]
    },
    {
      "cell_type": "code",
      "source": [
        "print(a[4])"
      ],
      "metadata": {
        "colab": {
          "base_uri": "https://localhost:8080/"
        },
        "id": "l3hh78271mMG",
        "outputId": "62e6fc48-c528-40a7-8ac2-fcea10301b30"
      },
      "execution_count": null,
      "outputs": [
        {
          "output_type": "stream",
          "name": "stdout",
          "text": [
            "Chhattisgarh\n"
          ]
        }
      ]
    },
    {
      "cell_type": "code",
      "source": [
        "print(a[5])"
      ],
      "metadata": {
        "colab": {
          "base_uri": "https://localhost:8080/"
        },
        "id": "q-kX6W_61o4k",
        "outputId": "29f9913f-5c7f-4c28-8c62-64eea9c23c1b"
      },
      "execution_count": null,
      "outputs": [
        {
          "output_type": "stream",
          "name": "stdout",
          "text": [
            "Goa\n"
          ]
        }
      ]
    },
    {
      "cell_type": "code",
      "source": [
        "print(a[6])"
      ],
      "metadata": {
        "colab": {
          "base_uri": "https://localhost:8080/"
        },
        "id": "m09qtiwb1obZ",
        "outputId": "3b0ab152-2c74-49b6-8fdc-2361e847ab62"
      },
      "execution_count": null,
      "outputs": [
        {
          "output_type": "stream",
          "name": "stdout",
          "text": [
            "Gujarat\n"
          ]
        }
      ]
    },
    {
      "cell_type": "code",
      "source": [
        "print(a[7])"
      ],
      "metadata": {
        "colab": {
          "base_uri": "https://localhost:8080/"
        },
        "id": "IGRJFUz21wDV",
        "outputId": "e443908b-f78f-47fe-ebd7-314bed4cb99c"
      },
      "execution_count": null,
      "outputs": [
        {
          "output_type": "stream",
          "name": "stdout",
          "text": [
            "Haryana\n"
          ]
        }
      ]
    },
    {
      "cell_type": "code",
      "source": [
        "print(a[8])"
      ],
      "metadata": {
        "colab": {
          "base_uri": "https://localhost:8080/"
        },
        "id": "wS7f72IJ1yF3",
        "outputId": "1f0585ce-4bdf-4058-9008-cf9d56976ea2"
      },
      "execution_count": null,
      "outputs": [
        {
          "output_type": "stream",
          "name": "stdout",
          "text": [
            "Himachal Pradesh\n"
          ]
        }
      ]
    },
    {
      "cell_type": "code",
      "source": [
        "print(a[9])"
      ],
      "metadata": {
        "colab": {
          "base_uri": "https://localhost:8080/"
        },
        "id": "MdiqOk1B10dL",
        "outputId": "f5656b5e-6ef6-4e4b-adc2-e8ce2687ad32"
      },
      "execution_count": null,
      "outputs": [
        {
          "output_type": "stream",
          "name": "stdout",
          "text": [
            "Jharkhand\n"
          ]
        }
      ]
    },
    {
      "cell_type": "code",
      "source": [
        "print(a[10])"
      ],
      "metadata": {
        "colab": {
          "base_uri": "https://localhost:8080/"
        },
        "id": "fddd6UZz13Ag",
        "outputId": "82fa21b3-80b7-4fde-fd9e-2afbc5560fa5"
      },
      "execution_count": null,
      "outputs": [
        {
          "output_type": "stream",
          "name": "stdout",
          "text": [
            "Karnataka\n"
          ]
        }
      ]
    },
    {
      "cell_type": "markdown",
      "source": [
        "**negative indexing**\n",
        "\n",
        "**which will display from last of the list**"
      ],
      "metadata": {
        "id": "eSHE1dZq2DhZ"
      }
    },
    {
      "cell_type": "code",
      "source": [
        "print(a[-1])\n"
      ],
      "metadata": {
        "colab": {
          "base_uri": "https://localhost:8080/"
        },
        "id": "WzynrtJ4124I",
        "outputId": "f106903c-c93e-4224-81ff-2aa5e76d24a4"
      },
      "execution_count": null,
      "outputs": [
        {
          "output_type": "stream",
          "name": "stdout",
          "text": [
            "Chandigarh\n"
          ]
        }
      ]
    },
    {
      "cell_type": "code",
      "source": [
        "print(a[-2])"
      ],
      "metadata": {
        "colab": {
          "base_uri": "https://localhost:8080/"
        },
        "id": "QuJCRNtq12xw",
        "outputId": "c6fae6d9-837a-413c-da10-0afde4073987"
      },
      "execution_count": null,
      "outputs": [
        {
          "output_type": "stream",
          "name": "stdout",
          "text": [
            "Andaman and Nicobar Islands\n"
          ]
        }
      ]
    },
    {
      "cell_type": "code",
      "source": [
        "print(a[-3])"
      ],
      "metadata": {
        "colab": {
          "base_uri": "https://localhost:8080/"
        },
        "id": "WOVBKTrh12tJ",
        "outputId": "7e37e726-0e55-491f-a1ea-dd90520cc057"
      },
      "execution_count": null,
      "outputs": [
        {
          "output_type": "stream",
          "name": "stdout",
          "text": [
            "West Bengal\n"
          ]
        }
      ]
    },
    {
      "cell_type": "code",
      "source": [
        "print(a[-4])"
      ],
      "metadata": {
        "colab": {
          "base_uri": "https://localhost:8080/"
        },
        "id": "mO3avqEl2UAT",
        "outputId": "1e12bd16-8436-43a3-dd80-389de7cbdc6d"
      },
      "execution_count": null,
      "outputs": [
        {
          "output_type": "stream",
          "name": "stdout",
          "text": [
            "Uttarakhand\n"
          ]
        }
      ]
    },
    {
      "cell_type": "code",
      "source": [
        "print(a[-5])"
      ],
      "metadata": {
        "colab": {
          "base_uri": "https://localhost:8080/"
        },
        "id": "FIdVto6a2XMO",
        "outputId": "98d3a9e6-0dd3-44c0-9412-93668a8ea547"
      },
      "execution_count": null,
      "outputs": [
        {
          "output_type": "stream",
          "name": "stdout",
          "text": [
            "Uttar Pradesh\n"
          ]
        }
      ]
    },
    {
      "cell_type": "code",
      "source": [
        "print(a[-6])"
      ],
      "metadata": {
        "colab": {
          "base_uri": "https://localhost:8080/"
        },
        "id": "v311xQIA2Z7H",
        "outputId": "4d47950c-d4cd-4122-cb99-31ce1c9b889f"
      },
      "execution_count": null,
      "outputs": [
        {
          "output_type": "stream",
          "name": "stdout",
          "text": [
            "Tripura\n"
          ]
        }
      ]
    },
    {
      "cell_type": "code",
      "source": [
        "print(a[-7])"
      ],
      "metadata": {
        "colab": {
          "base_uri": "https://localhost:8080/"
        },
        "id": "qUHxGvaO2cCX",
        "outputId": "dd45505f-f793-4f18-b5cf-7f84b2521d3d"
      },
      "execution_count": null,
      "outputs": [
        {
          "output_type": "stream",
          "name": "stdout",
          "text": [
            "Telangana\n"
          ]
        }
      ]
    },
    {
      "cell_type": "code",
      "source": [
        "print(a[-8])"
      ],
      "metadata": {
        "colab": {
          "base_uri": "https://localhost:8080/"
        },
        "id": "ogbZTEKq2fGs",
        "outputId": "57d99914-5bfa-4cb2-8af9-602d932e06a9"
      },
      "execution_count": null,
      "outputs": [
        {
          "output_type": "stream",
          "name": "stdout",
          "text": [
            "Tamil Nadu\n"
          ]
        }
      ]
    },
    {
      "cell_type": "code",
      "source": [
        "print(a[-9])"
      ],
      "metadata": {
        "colab": {
          "base_uri": "https://localhost:8080/"
        },
        "id": "qYQCzkqX2g81",
        "outputId": "7c206f80-a1da-48b5-e81d-14a70ef58e22"
      },
      "execution_count": null,
      "outputs": [
        {
          "output_type": "stream",
          "name": "stdout",
          "text": [
            "Sikkim\n"
          ]
        }
      ]
    },
    {
      "cell_type": "code",
      "source": [
        "print(a[-10])"
      ],
      "metadata": {
        "colab": {
          "base_uri": "https://localhost:8080/"
        },
        "id": "BgGRlKF12kCw",
        "outputId": "d37e59ba-db9e-41c3-a136-0673f4ab5c1f"
      },
      "execution_count": null,
      "outputs": [
        {
          "output_type": "stream",
          "name": "stdout",
          "text": [
            "Rajasthan\n"
          ]
        }
      ]
    },
    {
      "cell_type": "markdown",
      "source": [
        "**Range of indexing**\n",
        "\n",
        "\n",
        "**The search will start at index 2 (included) and end at index 8 (not included).**"
      ],
      "metadata": {
        "id": "LPzyATt221dZ"
      }
    },
    {
      "cell_type": "code",
      "source": [
        "b=[\"banglore\",\"chikkaballapura\",\"dharwad\",\"ballari\",\"banglore\",\"tumkur\",\"doddaballapur\",\"ballari\"]\n",
        "print(b[1:8])"
      ],
      "metadata": {
        "colab": {
          "base_uri": "https://localhost:8080/"
        },
        "id": "yhQS8Hlm3D3k",
        "outputId": "929f59c8-5863-4080-b37b-6a129ccab2f1"
      },
      "execution_count": null,
      "outputs": [
        {
          "output_type": "stream",
          "name": "stdout",
          "text": [
            "['chikkaballapura', 'dharwad', 'ballari', 'banglore', 'tumkur', 'doddaballapur', 'ballari']\n"
          ]
        }
      ]
    },
    {
      "cell_type": "code",
      "source": [
        "b=[\"banglore\",\"chikkaballapura\",\"dharwad\",\"ballari\",\"banglore\",\"tumkur\",\"doddaballapur\",\"ballari\"]\n",
        "print(b[:4])"
      ],
      "metadata": {
        "colab": {
          "base_uri": "https://localhost:8080/"
        },
        "id": "GROJcfXF3dNF",
        "outputId": "294fbec4-4b26-4ca0-d743-3884ef902c90"
      },
      "execution_count": null,
      "outputs": [
        {
          "output_type": "stream",
          "name": "stdout",
          "text": [
            "['banglore', 'chikkaballapura', 'dharwad', 'ballari']\n"
          ]
        }
      ]
    },
    {
      "cell_type": "code",
      "source": [
        "b=[\"banglore\",\"chikkaballapura\",\"dharwad\",\"ballari\",\"banglore\",\"tumkur\",\"doddaballapur\",\"ballari\"]\n",
        "print(b[6:])\n"
      ],
      "metadata": {
        "colab": {
          "base_uri": "https://localhost:8080/"
        },
        "id": "ETCW3v2G3mQk",
        "outputId": "62763421-1c21-427f-e8a4-7540edfe6010"
      },
      "execution_count": null,
      "outputs": [
        {
          "output_type": "stream",
          "name": "stdout",
          "text": [
            "['doddaballapur', 'ballari']\n"
          ]
        }
      ]
    },
    {
      "cell_type": "markdown",
      "source": [
        "**Range of negative indexing**"
      ],
      "metadata": {
        "id": "17Clfm7Q32oj"
      }
    },
    {
      "cell_type": "code",
      "source": [
        "c=[2000,4000,2000,5600,4090,1423,7257]\n",
        "print(c[-3:-2])"
      ],
      "metadata": {
        "colab": {
          "base_uri": "https://localhost:8080/"
        },
        "id": "-7QqEJeTaorE",
        "outputId": "3b107ffd-10f2-4438-9d33-3e778f57754d"
      },
      "execution_count": null,
      "outputs": [
        {
          "output_type": "stream",
          "name": "stdout",
          "text": [
            "[4090]\n"
          ]
        }
      ]
    },
    {
      "cell_type": "code",
      "source": [
        "c=[2000,4000,2000,5600,4090,1423,7257]\n",
        "print(c[-2:-1])"
      ],
      "metadata": {
        "colab": {
          "base_uri": "https://localhost:8080/"
        },
        "id": "UF2Br_hsbRhb",
        "outputId": "81108a6c-c916-4839-cd46-38507e43f1a1"
      },
      "execution_count": null,
      "outputs": [
        {
          "output_type": "stream",
          "name": "stdout",
          "text": [
            "[1423]\n"
          ]
        }
      ]
    },
    {
      "cell_type": "code",
      "source": [
        "c=[2000,4000,2000,5600,4090,1423,7257]\n",
        "print(c[-3:-4])"
      ],
      "metadata": {
        "colab": {
          "base_uri": "https://localhost:8080/"
        },
        "id": "wjn68AC1bat2",
        "outputId": "e8ca1d00-2f96-4885-fdcf-fc0b8eda9655"
      },
      "execution_count": null,
      "outputs": [
        {
          "output_type": "stream",
          "name": "stdout",
          "text": [
            "[]\n"
          ]
        }
      ]
    },
    {
      "cell_type": "markdown",
      "source": [
        "**check if item exists**"
      ],
      "metadata": {
        "id": "BbrPGe1sboHm"
      }
    },
    {
      "cell_type": "code",
      "source": [
        "a = [\n",
        "    \"Andhra Pradesh\", \"Arunachal Pradesh\", \"Assam\", \"Bihar\", \"Chhattisgarh\", \"Goa\", \"Gujarat\",\n",
        "    \"Haryana\", \"Himachal Pradesh\", \"Jharkhand\", \"Karnataka\", \"Kerala\", \"Madhya Pradesh\",\n",
        "    \"Maharashtra\", \"Manipur\", \"Meghalaya\", \"Mizoram\", \"Nagaland\", \"Odisha\", \"Punjab\",\n",
        "    \"Rajasthan\", \"Sikkim\", \"Tamil Nadu\", \"Telangana\", \"Tripura\", \"Uttar Pradesh\",\n",
        "    \"Uttarakhand\", \"West Bengal\", \"Andaman and Nicobar Islands\", \"Chandigarh\"\n",
        "]\n",
        "\n",
        "if \"Delhi\" in a:\n",
        "    print(\"Yes, Delhi is in the list a.\")\n",
        "else:\n",
        "    print(\"No, Delhi is not in the list a.\")\n"
      ],
      "metadata": {
        "colab": {
          "base_uri": "https://localhost:8080/"
        },
        "id": "bYCC_H01b0vY",
        "outputId": "230e3741-d8eb-4c2b-91c0-f7089706307b"
      },
      "execution_count": null,
      "outputs": [
        {
          "output_type": "stream",
          "name": "stdout",
          "text": [
            "No, Delhi is not in the list a.\n"
          ]
        }
      ]
    },
    {
      "cell_type": "code",
      "source": [
        "a = [\n",
        "    \"Andhra Pradesh\", \"Arunachal Pradesh\", \"Assam\", \"Bihar\", \"Chhattisgarh\", \"Goa\", \"Gujarat\",\n",
        "    \"Haryana\", \"Himachal Pradesh\", \"Jharkhand\", \"Karnataka\", \"Kerala\", \"Madhya Pradesh\",\n",
        "    \"Maharashtra\", \"Manipur\", \"Meghalaya\", \"Mizoram\", \"Nagaland\", \"Odisha\", \"Punjab\",\n",
        "    \"Rajasthan\", \"Sikkim\", \"Tamil Nadu\", \"Telangana\", \"Tripura\", \"Uttar Pradesh\",\n",
        "    \"Uttarakhand\", \"West Bengal\", \"Andaman and Nicobar Islands\", \"Chandigarh\"\n",
        "]\n",
        "\n",
        "if \"Karnataka\" in a:\n",
        "    print(\"Yes, Karnataka is in the list a.\")\n",
        "else:\n",
        "    print(\"No, Karnataka is not in the list a.\")\n"
      ],
      "metadata": {
        "colab": {
          "base_uri": "https://localhost:8080/"
        },
        "id": "OTTE4WLzeIrQ",
        "outputId": "34e6ca4d-93b0-4491-8bff-1f33de01fc5f"
      },
      "execution_count": null,
      "outputs": [
        {
          "output_type": "stream",
          "name": "stdout",
          "text": [
            "Yes, Karnataka is in the list a.\n"
          ]
        }
      ]
    },
    {
      "cell_type": "markdown",
      "source": [
        "**Change Item Value\n",
        "To change the value of a specific item, refer to the index number:**"
      ],
      "metadata": {
        "id": "4IY-e18LeddE"
      }
    },
    {
      "cell_type": "code",
      "source": [
        "\n",
        "f=[\"apple\",\"mango\",\"banana\",\"grapes\",165,345,76,345.56,87.345,98.98,True,False]\n",
        "f[1]=\"guava\"\n",
        "print(f)"
      ],
      "metadata": {
        "colab": {
          "base_uri": "https://localhost:8080/"
        },
        "id": "Rbr8EHf1ef39",
        "outputId": "e31ae0d6-ee94-4fd0-fd87-2ad6485826e9"
      },
      "execution_count": null,
      "outputs": [
        {
          "output_type": "stream",
          "name": "stdout",
          "text": [
            "['apple', 'guava', 'banana', 'grapes', 165, 345, 76, 345.56, 87.345, 98.98, True, False]\n"
          ]
        }
      ]
    },
    {
      "cell_type": "code",
      "source": [
        "f=[\"apple\",\"mango\",\"banana\",\"grapes\",165,345,76,345.56,87.345,98.98,True,False]\n",
        "f[0]=\"watermelon\"\n",
        "print(f)"
      ],
      "metadata": {
        "colab": {
          "base_uri": "https://localhost:8080/"
        },
        "id": "SLSzIUxbe5MY",
        "outputId": "bfd9bf00-18fb-45d8-e769-e90ba608be5b"
      },
      "execution_count": null,
      "outputs": [
        {
          "output_type": "stream",
          "name": "stdout",
          "text": [
            "['watermelon', 'mango', 'banana', 'grapes', 165, 345, 76, 345.56, 87.345, 98.98, True, False]\n"
          ]
        }
      ]
    },
    {
      "cell_type": "markdown",
      "source": [
        "**Change a Range of Item Values**\n",
        "\n",
        "**To change the value of items within a specific range, define a list with the new values, and refer to the range of index numbers where you want to insert the new values**"
      ],
      "metadata": {
        "id": "kOR2jCsifEFi"
      }
    },
    {
      "cell_type": "code",
      "source": [
        "f=[\"apple\",\"mango\",\"banana\",\"grapes\",165,345,76,345.56,87.345,98.98,True,False]\n",
        "f[2:3]=[\"Tomato\",\"potato\"]\n",
        "print(f)"
      ],
      "metadata": {
        "colab": {
          "base_uri": "https://localhost:8080/"
        },
        "id": "6jioxOmWfLqA",
        "outputId": "4a08a979-f5c1-4f65-de07-9499714e3962"
      },
      "execution_count": 18,
      "outputs": [
        {
          "output_type": "stream",
          "name": "stdout",
          "text": [
            "['apple', 'mango', 'Tomato', 'potato', 'grapes', 165, 345, 76, 345.56, 87.345, 98.98, True, False]\n"
          ]
        }
      ]
    },
    {
      "cell_type": "markdown",
      "source": [
        "**Insert Items**"
      ],
      "metadata": {
        "id": "xUtjLiR_qTW2"
      }
    },
    {
      "cell_type": "code",
      "source": [
        "c=[2000,4000,2000,5600,4090,1423,7257]\n",
        "c.insert(2,3)\n",
        "print(c)"
      ],
      "metadata": {
        "id": "fPU7EO8IfZyY",
        "colab": {
          "base_uri": "https://localhost:8080/"
        },
        "outputId": "342d26e1-f935-4be0-8e16-5834717d749e"
      },
      "execution_count": 23,
      "outputs": [
        {
          "output_type": "stream",
          "name": "stdout",
          "text": [
            "[2000, 4000, 3, 2000, 5600, 4090, 1423, 7257]\n"
          ]
        }
      ]
    },
    {
      "cell_type": "code",
      "source": [
        "c=[2000,4000,2000,5600,4090,1423,7257]\n",
        "c.insert(3,\"kiwi\")\n",
        "print(c)"
      ],
      "metadata": {
        "colab": {
          "base_uri": "https://localhost:8080/"
        },
        "id": "x2s9w90arYM8",
        "outputId": "793a43c0-06c3-49ac-8fe1-eacfcd5d82e8"
      },
      "execution_count": 24,
      "outputs": [
        {
          "output_type": "stream",
          "name": "stdout",
          "text": [
            "[2000, 4000, 2000, 'kiwi', 5600, 4090, 1423, 7257]\n"
          ]
        }
      ]
    },
    {
      "cell_type": "code",
      "source": [
        "c=[2000,4000,2000,5600,4090,1423,7257]\n",
        "c.insert(4,\"ice cream\")\n",
        "print(c)"
      ],
      "metadata": {
        "colab": {
          "base_uri": "https://localhost:8080/"
        },
        "id": "qPiQp60Lrfne",
        "outputId": "012f5f52-78ba-42f9-8cad-798d5780670f"
      },
      "execution_count": 25,
      "outputs": [
        {
          "output_type": "stream",
          "name": "stdout",
          "text": [
            "[2000, 4000, 2000, 5600, 'ice cream', 4090, 1423, 7257]\n"
          ]
        }
      ]
    },
    {
      "cell_type": "markdown",
      "source": [
        "**To add an item to the end of the list, use the append() method:**"
      ],
      "metadata": {
        "id": "VgWyUIPbrwfM"
      }
    },
    {
      "cell_type": "code",
      "source": [
        "a = [\n",
        "    \"Andhra Pradesh\", \"Arunachal Pradesh\", \"Assam\", \"Bihar\", \"Chhattisgarh\", \"Goa\", \"Gujarat\",\n",
        "    \"Haryana\", \"Himachal Pradesh\", \"Jharkhand\", \"Karnataka\", \"Kerala\", \"Madhya Pradesh\",\n",
        "    \"Maharashtra\", \"Manipur\", \"Meghalaya\", \"Mizoram\", \"Nagaland\", \"Odisha\", \"Punjab\",\n",
        "    \"Rajasthan\", \"Sikkim\", \"Tamil Nadu\", \"Telangana\", \"Tripura\", \"Uttar Pradesh\",\n",
        "    \"Uttarakhand\", \"West Bengal\", \"Andaman and Nicobar Islands\", \"Chandigarh\"\n",
        "]\n",
        "a.append(\"Lakshadweep\")\n",
        "print(a)\n"
      ],
      "metadata": {
        "colab": {
          "base_uri": "https://localhost:8080/"
        },
        "id": "fC5ix4e3rylr",
        "outputId": "cf4d575a-46db-4cc7-e268-808ef1a390db"
      },
      "execution_count": 28,
      "outputs": [
        {
          "output_type": "stream",
          "name": "stdout",
          "text": [
            "['Andhra Pradesh', 'Arunachal Pradesh', 'Assam', 'Bihar', 'Chhattisgarh', 'Goa', 'Gujarat', 'Haryana', 'Himachal Pradesh', 'Jharkhand', 'Karnataka', 'Kerala', 'Madhya Pradesh', 'Maharashtra', 'Manipur', 'Meghalaya', 'Mizoram', 'Nagaland', 'Odisha', 'Punjab', 'Rajasthan', 'Sikkim', 'Tamil Nadu', 'Telangana', 'Tripura', 'Uttar Pradesh', 'Uttarakhand', 'West Bengal', 'Andaman and Nicobar Islands', 'Chandigarh', 'Lakshadweep']\n"
          ]
        }
      ]
    },
    {
      "cell_type": "code",
      "source": [
        "a = [\n",
        "    \"Andhra Pradesh\", \"Arunachal Pradesh\", \"Assam\", \"Bihar\", \"Chhattisgarh\", \"Goa\", \"Gujarat\",\n",
        "    \"Haryana\", \"Himachal Pradesh\", \"Jharkhand\", \"Karnataka\", \"Kerala\", \"Madhya Pradesh\",\n",
        "    \"Maharashtra\", \"Manipur\", \"Meghalaya\", \"Mizoram\", \"Nagaland\", \"Odisha\", \"Punjab\",\n",
        "    \"Rajasthan\", \"Sikkim\", \"Tamil Nadu\", \"Telangana\", \"Tripura\", \"Uttar Pradesh\",\n",
        "    \"Uttarakhand\", \"West Bengal\", \"Andaman and Nicobar Islands\", \"Chandigarh\"\n",
        "]\n",
        "a.append(\"Delhi\")\n",
        "a"
      ],
      "metadata": {
        "colab": {
          "base_uri": "https://localhost:8080/"
        },
        "id": "Aw-wT9TGsRKr",
        "outputId": "de03bf52-a53d-4cf3-cd7a-fb64b8da6b0b"
      },
      "execution_count": 31,
      "outputs": [
        {
          "output_type": "execute_result",
          "data": {
            "text/plain": [
              "['Andhra Pradesh',\n",
              " 'Arunachal Pradesh',\n",
              " 'Assam',\n",
              " 'Bihar',\n",
              " 'Chhattisgarh',\n",
              " 'Goa',\n",
              " 'Gujarat',\n",
              " 'Haryana',\n",
              " 'Himachal Pradesh',\n",
              " 'Jharkhand',\n",
              " 'Karnataka',\n",
              " 'Kerala',\n",
              " 'Madhya Pradesh',\n",
              " 'Maharashtra',\n",
              " 'Manipur',\n",
              " 'Meghalaya',\n",
              " 'Mizoram',\n",
              " 'Nagaland',\n",
              " 'Odisha',\n",
              " 'Punjab',\n",
              " 'Rajasthan',\n",
              " 'Sikkim',\n",
              " 'Tamil Nadu',\n",
              " 'Telangana',\n",
              " 'Tripura',\n",
              " 'Uttar Pradesh',\n",
              " 'Uttarakhand',\n",
              " 'West Bengal',\n",
              " 'Andaman and Nicobar Islands',\n",
              " 'Chandigarh',\n",
              " 'Delhi']"
            ]
          },
          "metadata": {},
          "execution_count": 31
        }
      ]
    },
    {
      "cell_type": "markdown",
      "source": [
        "\n",
        "\n",
        "**Extend List **\n",
        "\n",
        "**To append elements from another list to the current list, use the extend() method**"
      ],
      "metadata": {
        "id": "2q3VXQcttB19"
      }
    },
    {
      "cell_type": "code",
      "source": [
        "c=[2000,4000,2000,5600,4090,1423,7257]\n",
        "d=[12.454,76.897,098.234,098.8657,456776.87677]\n",
        "c.extend(d)\n",
        "print(c)"
      ],
      "metadata": {
        "colab": {
          "base_uri": "https://localhost:8080/"
        },
        "id": "HRzCJGrhtQqT",
        "outputId": "5cce4bec-6b28-4fb4-ce5a-1d7eb4127d9a"
      },
      "execution_count": 33,
      "outputs": [
        {
          "output_type": "stream",
          "name": "stdout",
          "text": [
            "[2000, 4000, 2000, 5600, 4090, 1423, 7257, 12.454, 76.897, 98.234, 98.8657, 456776.87677]\n"
          ]
        }
      ]
    },
    {
      "cell_type": "markdown",
      "source": [
        "**Remove Specified Item**\n",
        "\n",
        "**The remove() method removes the specified item.**"
      ],
      "metadata": {
        "id": "s1-uOFemueQP"
      }
    },
    {
      "cell_type": "code",
      "source": [
        "d=[12.454,76.897,098.234,098.8657,456776.87677]\n",
        "d.remove(12.454)\n",
        "d"
      ],
      "metadata": {
        "colab": {
          "base_uri": "https://localhost:8080/"
        },
        "id": "fbVkW5UyuCbE",
        "outputId": "1c9074a7-1d81-4a97-cbfa-2e887a09422d"
      },
      "execution_count": 35,
      "outputs": [
        {
          "output_type": "execute_result",
          "data": {
            "text/plain": [
              "[76.897, 98.234, 98.8657, 456776.87677]"
            ]
          },
          "metadata": {},
          "execution_count": 35
        }
      ]
    },
    {
      "cell_type": "code",
      "source": [
        "d=[12.454,76.897,098.234,098.8657,456776.87677]\n",
        "d.remove(76.897)\n",
        "d"
      ],
      "metadata": {
        "colab": {
          "base_uri": "https://localhost:8080/"
        },
        "id": "Mq0TQeIIvHX2",
        "outputId": "acddefd1-c60a-4d64-e8a0-ea9541c09835"
      },
      "execution_count": 36,
      "outputs": [
        {
          "output_type": "execute_result",
          "data": {
            "text/plain": [
              "[12.454, 98.234, 98.8657, 456776.87677]"
            ]
          },
          "metadata": {},
          "execution_count": 36
        }
      ]
    },
    {
      "cell_type": "markdown",
      "source": [
        "**Remove Specified Index**\n",
        "\n",
        "**The pop() method removes the specified index.**"
      ],
      "metadata": {
        "id": "WaxnDF_qvOs5"
      }
    },
    {
      "cell_type": "code",
      "source": [
        "c=[2000,4000,2000,5600,4090,1423,7257]\n",
        "c.pop(0)"
      ],
      "metadata": {
        "colab": {
          "base_uri": "https://localhost:8080/"
        },
        "id": "h9Ol05Y-vXjU",
        "outputId": "a8e2c90a-d912-4a31-b946-388ad5362e8e"
      },
      "execution_count": 37,
      "outputs": [
        {
          "output_type": "execute_result",
          "data": {
            "text/plain": [
              "2000"
            ]
          },
          "metadata": {},
          "execution_count": 37
        }
      ]
    },
    {
      "cell_type": "code",
      "source": [
        "c=[2000,4000,2000,5600,4090,1423,7257]\n",
        "c.pop(1)"
      ],
      "metadata": {
        "colab": {
          "base_uri": "https://localhost:8080/"
        },
        "id": "xz_WsQTvvplk",
        "outputId": "ee49b4c3-0795-4199-8295-6458b584148e"
      },
      "execution_count": 38,
      "outputs": [
        {
          "output_type": "execute_result",
          "data": {
            "text/plain": [
              "4000"
            ]
          },
          "metadata": {},
          "execution_count": 38
        }
      ]
    },
    {
      "cell_type": "code",
      "source": [
        "c=[2000,4000,2000,5600,4090,1423,7257]\n",
        "c.pop(2)"
      ],
      "metadata": {
        "colab": {
          "base_uri": "https://localhost:8080/"
        },
        "id": "fErf5NQIvtMn",
        "outputId": "d2e78a8d-644c-46c7-f13d-18e3b67bf892"
      },
      "execution_count": 39,
      "outputs": [
        {
          "output_type": "execute_result",
          "data": {
            "text/plain": [
              "2000"
            ]
          },
          "metadata": {},
          "execution_count": 39
        }
      ]
    },
    {
      "cell_type": "code",
      "source": [
        "c=[2000,4000,2000,5600,4090,1423,7257]\n",
        "c.pop()"
      ],
      "metadata": {
        "colab": {
          "base_uri": "https://localhost:8080/"
        },
        "id": "T0zbj6R5vxkp",
        "outputId": "460354e4-9ef1-4469-dafa-d851877c8e3b"
      },
      "execution_count": 40,
      "outputs": [
        {
          "output_type": "execute_result",
          "data": {
            "text/plain": [
              "7257"
            ]
          },
          "metadata": {},
          "execution_count": 40
        }
      ]
    },
    {
      "cell_type": "markdown",
      "source": [
        "**The del keyword can also delete the list completely.**"
      ],
      "metadata": {
        "id": "msi1uHlCv3F5"
      }
    },
    {
      "cell_type": "code",
      "source": [
        "e=[True,False,True,True,False]\n",
        "\n",
        "del e[0]\n",
        "print(e)"
      ],
      "metadata": {
        "colab": {
          "base_uri": "https://localhost:8080/"
        },
        "id": "eR0dXAOmv82L",
        "outputId": "e361dadd-6a59-4499-b323-ccc24b817393"
      },
      "execution_count": 45,
      "outputs": [
        {
          "output_type": "stream",
          "name": "stdout",
          "text": [
            "[False, True, True, False]\n"
          ]
        }
      ]
    },
    {
      "cell_type": "code",
      "source": [
        "e=[True,False,True,True,False]\n",
        "\n",
        "del e[1]\n",
        "print(e)"
      ],
      "metadata": {
        "colab": {
          "base_uri": "https://localhost:8080/"
        },
        "id": "praF0H67w-8l",
        "outputId": "f4613ab2-470e-4c29-d11c-5d6c40a66425"
      },
      "execution_count": 46,
      "outputs": [
        {
          "output_type": "stream",
          "name": "stdout",
          "text": [
            "[True, True, True, False]\n"
          ]
        }
      ]
    },
    {
      "cell_type": "code",
      "source": [
        "e=[True,False,True,True,False]\n",
        "del e\n"
      ],
      "metadata": {
        "id": "th8MlWlIxIZv"
      },
      "execution_count": 49,
      "outputs": []
    },
    {
      "cell_type": "markdown",
      "source": [
        "**Clear the List**\n",
        "\n",
        "**The clear() method empties the list.**\n",
        "**The list still remains, but it has no content.**"
      ],
      "metadata": {
        "id": "peCaiHDUxZeQ"
      }
    },
    {
      "cell_type": "code",
      "source": [
        "c=[2000,4000,2000,5600,4090,1423,7257]\n",
        "c.clear()\n",
        "print(c)"
      ],
      "metadata": {
        "colab": {
          "base_uri": "https://localhost:8080/"
        },
        "id": "ipo8NM-3xg8Y",
        "outputId": "b812bcb4-0f4c-4b57-83d6-6f60eec27869"
      },
      "execution_count": 50,
      "outputs": [
        {
          "output_type": "stream",
          "name": "stdout",
          "text": [
            "[]\n"
          ]
        }
      ]
    },
    {
      "cell_type": "markdown",
      "source": [
        "**Loop Through a List**"
      ],
      "metadata": {
        "id": "GAqjC38OyCXO"
      }
    },
    {
      "cell_type": "code",
      "source": [
        "b=[\"banglore\",\"chikkaballapura\",\"dharwad\",\"ballari\",\"banglore\",\"tumkur\",\"doddaballapur\",\"ballari\"]\n",
        "for x in b:\n",
        "   print(x)"
      ],
      "metadata": {
        "colab": {
          "base_uri": "https://localhost:8080/"
        },
        "id": "IDkfNx1_yEBc",
        "outputId": "e0e0110d-3fcb-4372-bdfb-a1d6718abdd1"
      },
      "execution_count": 51,
      "outputs": [
        {
          "output_type": "stream",
          "name": "stdout",
          "text": [
            "banglore\n",
            "chikkaballapura\n",
            "dharwad\n",
            "ballari\n",
            "banglore\n",
            "tumkur\n",
            "doddaballapur\n",
            "ballari\n"
          ]
        }
      ]
    },
    {
      "cell_type": "markdown",
      "source": [
        "**Loop Through the Index Numbers**"
      ],
      "metadata": {
        "id": "fUughD3Myojt"
      }
    },
    {
      "cell_type": "code",
      "source": [
        "b=[\"banglore\",\"chikkaballapura\",\"dharwad\",\"ballari\",\"banglore\",\"tumkur\",\"doddaballapur\",\"ballari\"]\n",
        "for i in range(len(b)):\n",
        "  print(b[i])"
      ],
      "metadata": {
        "colab": {
          "base_uri": "https://localhost:8080/"
        },
        "id": "boPAyjMtyrss",
        "outputId": "5512ec5d-3048-4746-b51a-b959e34e5352"
      },
      "execution_count": 54,
      "outputs": [
        {
          "output_type": "stream",
          "name": "stdout",
          "text": [
            "banglore\n",
            "chikkaballapura\n",
            "dharwad\n",
            "ballari\n",
            "banglore\n",
            "tumkur\n",
            "doddaballapur\n",
            "ballari\n"
          ]
        }
      ]
    },
    {
      "cell_type": "markdown",
      "source": [
        "**Using a While Loop**"
      ],
      "metadata": {
        "id": "6Hq1QCmlzN3H"
      }
    },
    {
      "cell_type": "code",
      "source": [
        "b=[\"banglore\",\"chikkaballapura\",\"dharwad\",\"ballari\",\"banglore\",\"tumkur\",\"doddaballapur\",\"ballari\"]\n",
        "i=0\n",
        "while i < len(b):\n",
        "  print(b[i])\n",
        "  i=i+1"
      ],
      "metadata": {
        "colab": {
          "base_uri": "https://localhost:8080/"
        },
        "id": "4VH_abGqzPMW",
        "outputId": "0bc01a33-e84f-43a0-b1cb-1b7a78442d05"
      },
      "execution_count": 56,
      "outputs": [
        {
          "output_type": "stream",
          "name": "stdout",
          "text": [
            "banglore\n",
            "chikkaballapura\n",
            "dharwad\n",
            "ballari\n",
            "banglore\n",
            "tumkur\n",
            "doddaballapur\n",
            "ballari\n"
          ]
        }
      ]
    },
    {
      "cell_type": "markdown",
      "source": [
        "**Looping Using List Comprehension**"
      ],
      "metadata": {
        "id": "hoVXzNmEzoiL"
      }
    },
    {
      "cell_type": "code",
      "source": [
        "b=[\"banglore\",\"chikkaballapura\",\"dharwad\",\"ballari\",\"banglore\",\"tumkur\",\"doddaballapur\",\"ballari\"]\n",
        "[print(x) for x in b]\n"
      ],
      "metadata": {
        "colab": {
          "base_uri": "https://localhost:8080/"
        },
        "id": "XulTwTiHzrDr",
        "outputId": "bbfc5854-2621-4fd6-b812-37a326ae453a"
      },
      "execution_count": 57,
      "outputs": [
        {
          "output_type": "stream",
          "name": "stdout",
          "text": [
            "banglore\n",
            "chikkaballapura\n",
            "dharwad\n",
            "ballari\n",
            "banglore\n",
            "tumkur\n",
            "doddaballapur\n",
            "ballari\n"
          ]
        },
        {
          "output_type": "execute_result",
          "data": {
            "text/plain": [
              "[None, None, None, None, None, None, None, None]"
            ]
          },
          "metadata": {},
          "execution_count": 57
        }
      ]
    },
    {
      "cell_type": "markdown",
      "source": [
        "**List Comprehension**\n",
        "\n",
        "**List comprehension offers a shorter syntax when you want to create a new list based on the values of an existing list.**"
      ],
      "metadata": {
        "id": "NwYG0QZs0dx6"
      }
    },
    {
      "cell_type": "code",
      "source": [
        "g = [\"cat\", \"dog\", \"cow\", \"parrot\", \"angelfish\"]\n",
        "\n",
        "newlist = []\n",
        "\n",
        "for x in g:\n",
        "    if \"a\" in x:\n",
        "        newlist.append(x)\n",
        "\n",
        "print(newlist)"
      ],
      "metadata": {
        "colab": {
          "base_uri": "https://localhost:8080/"
        },
        "id": "9pJ8WH38z531",
        "outputId": "54615973-b31a-4893-ea87-f955bd342cc1"
      },
      "execution_count": 61,
      "outputs": [
        {
          "output_type": "stream",
          "name": "stdout",
          "text": [
            "['cat', 'parrot', 'angelfish']\n"
          ]
        }
      ]
    },
    {
      "cell_type": "markdown",
      "source": [],
      "metadata": {
        "id": "q97HSLLx121s"
      }
    },
    {
      "cell_type": "code",
      "source": [
        "g = [\"cat\", \"dog\", \"cow\", \"parrot\", \"angelfish\"]\n",
        "\n",
        "newlist = [x for x in g if \"a\" in x]\n",
        "\n",
        "print(newlist)"
      ],
      "metadata": {
        "colab": {
          "base_uri": "https://localhost:8080/"
        },
        "id": "DvHmMHmL13Z0",
        "outputId": "3ee34d73-5d3d-4c71-e41c-45b18736a917"
      },
      "execution_count": 63,
      "outputs": [
        {
          "output_type": "stream",
          "name": "stdout",
          "text": [
            "['cat', 'parrot', 'angelfish']\n"
          ]
        }
      ]
    },
    {
      "cell_type": "markdown",
      "source": [
        "**sorting**\n",
        "\n",
        "**List objects have a sort() method that will sort the list alphanumerically, ascending, by default:**"
      ],
      "metadata": {
        "id": "vaihTFWl2IoR"
      }
    },
    {
      "cell_type": "code",
      "source": [
        "h = [\"orange\", \"mango\", \"kiwi\", \"pineapple\", \"banana\"]\n",
        "h.sort()\n",
        "print(h)\n"
      ],
      "metadata": {
        "colab": {
          "base_uri": "https://localhost:8080/"
        },
        "id": "q_xbflc42XSd",
        "outputId": "284f1d37-2480-41c3-b624-1788df3d91d7"
      },
      "execution_count": 64,
      "outputs": [
        {
          "output_type": "stream",
          "name": "stdout",
          "text": [
            "['banana', 'kiwi', 'mango', 'orange', 'pineapple']\n"
          ]
        }
      ]
    },
    {
      "cell_type": "code",
      "source": [
        "i= [100, 50, 65, 82, 23]\n",
        "i.sort()\n",
        "print(i)"
      ],
      "metadata": {
        "colab": {
          "base_uri": "https://localhost:8080/"
        },
        "id": "dXbqiFR22jcd",
        "outputId": "088eb071-68e5-4457-e770-47f589760dfb"
      },
      "execution_count": 65,
      "outputs": [
        {
          "output_type": "stream",
          "name": "stdout",
          "text": [
            "[23, 50, 65, 82, 100]\n"
          ]
        }
      ]
    },
    {
      "cell_type": "markdown",
      "source": [
        "**Sort Descending**\n",
        "\n",
        "**To sort descending, use the keyword argument reverse = True:**"
      ],
      "metadata": {
        "id": "bp8-X0cS2qil"
      }
    },
    {
      "cell_type": "code",
      "source": [
        "h = [\"orange\", \"mango\", \"kiwi\", \"pineapple\", \"banana\"]\n",
        "h.sort(reverse = True)\n",
        "print(h)"
      ],
      "metadata": {
        "colab": {
          "base_uri": "https://localhost:8080/"
        },
        "id": "8XkV6-C82zQB",
        "outputId": "535b931f-e0e2-42d3-8f3a-0c86cf405f45"
      },
      "execution_count": 66,
      "outputs": [
        {
          "output_type": "stream",
          "name": "stdout",
          "text": [
            "['pineapple', 'orange', 'mango', 'kiwi', 'banana']\n"
          ]
        }
      ]
    },
    {
      "cell_type": "code",
      "source": [
        "i = [100, 50, 65, 82, 23]\n",
        "i.sort(reverse = True)\n",
        "print(i)"
      ],
      "metadata": {
        "colab": {
          "base_uri": "https://localhost:8080/"
        },
        "id": "1aHcZr4U24H4",
        "outputId": "b2c723fd-c09d-4541-e182-91b79098545e"
      },
      "execution_count": 67,
      "outputs": [
        {
          "output_type": "stream",
          "name": "stdout",
          "text": [
            "[100, 82, 65, 50, 23]\n"
          ]
        }
      ]
    },
    {
      "cell_type": "markdown",
      "source": [
        "**Customize Sort Function**\n",
        "\n",
        "**You can also customize your own function by using the keyword argument key = function.**"
      ],
      "metadata": {
        "id": "IWCouRiL3HOL"
      }
    },
    {
      "cell_type": "code",
      "source": [
        "def myfunc(n):\n",
        "  return abs(n - 50)\n",
        "\n",
        "i = [100, 50, 65, 82, 23]\n",
        "i.sort(key = myfunc)\n",
        "print(i)"
      ],
      "metadata": {
        "colab": {
          "base_uri": "https://localhost:8080/"
        },
        "id": "9giDTBWz3Nwd",
        "outputId": "bad64493-9d77-4898-8136-84d078fd929b"
      },
      "execution_count": 68,
      "outputs": [
        {
          "output_type": "stream",
          "name": "stdout",
          "text": [
            "[50, 65, 23, 82, 100]\n"
          ]
        }
      ]
    },
    {
      "cell_type": "markdown",
      "source": [
        "**Case Insensitive Sort**\n",
        "\n",
        "**By default the sort() method is case sensitive, resulting in all capital letters being sorted before lower case letters**"
      ],
      "metadata": {
        "id": "JlN0xJy93cLK"
      }
    },
    {
      "cell_type": "code",
      "source": [
        "k = [\"banana\", \"Orange\", \"Kiwi\", \"cherry\"]\n",
        "k.sort()\n",
        "print(k)"
      ],
      "metadata": {
        "colab": {
          "base_uri": "https://localhost:8080/"
        },
        "id": "QhyF1QPC3bei",
        "outputId": "85fd62d1-9d53-40a2-efea-af06459bebfc"
      },
      "execution_count": 69,
      "outputs": [
        {
          "output_type": "stream",
          "name": "stdout",
          "text": [
            "['Kiwi', 'Orange', 'banana', 'cherry']\n"
          ]
        }
      ]
    },
    {
      "cell_type": "code",
      "source": [
        "k = [\"banana\", \"Orange\", \"Kiwi\", \"cherry\"]\n",
        "k.sort(key = str.lower)\n",
        "print(k)"
      ],
      "metadata": {
        "colab": {
          "base_uri": "https://localhost:8080/"
        },
        "id": "b55-1R4e3tGy",
        "outputId": "12cb1a18-b98a-476c-d655-c233be26e3f0"
      },
      "execution_count": 70,
      "outputs": [
        {
          "output_type": "stream",
          "name": "stdout",
          "text": [
            "['banana', 'cherry', 'Kiwi', 'Orange']\n"
          ]
        }
      ]
    },
    {
      "cell_type": "markdown",
      "source": [
        "**reverse order**\n",
        "\n",
        "**The reverse() method reverses the current sorting order of the elements.**"
      ],
      "metadata": {
        "id": "fm8-8M_N309C"
      }
    },
    {
      "cell_type": "code",
      "source": [
        "k = [\"banana\", \"Orange\", \"Kiwi\", \"cherry\"]\n",
        "k.reverse()\n",
        "print(k)"
      ],
      "metadata": {
        "colab": {
          "base_uri": "https://localhost:8080/"
        },
        "id": "vysbI55b370X",
        "outputId": "5afd475c-eb5a-4857-907e-c14df2e796df"
      },
      "execution_count": 71,
      "outputs": [
        {
          "output_type": "stream",
          "name": "stdout",
          "text": [
            "['cherry', 'Kiwi', 'Orange', 'banana']\n"
          ]
        }
      ]
    },
    {
      "cell_type": "markdown",
      "source": [
        "**Copy a List**\n",
        "\n",
        "**There are ways to make a copy, one way is to use the built-in List method copy().**"
      ],
      "metadata": {
        "id": "c1UBsTE84Pyr"
      }
    },
    {
      "cell_type": "code",
      "source": [
        "list1 = [\"apple\", \"banana\", \"cherry\"]\n",
        "list2= list1.copy()\n",
        "print(list2)"
      ],
      "metadata": {
        "colab": {
          "base_uri": "https://localhost:8080/"
        },
        "id": "S-NYhtQW4YbW",
        "outputId": "ab9b554a-9a7a-46f5-ac1a-eb2501e05892"
      },
      "execution_count": 73,
      "outputs": [
        {
          "output_type": "stream",
          "name": "stdout",
          "text": [
            "['apple', 'banana', 'cherry']\n"
          ]
        }
      ]
    },
    {
      "cell_type": "code",
      "source": [
        "list2 = [\"apple\", \"banana\", \"cherry\"]\n",
        "list3= list(list2)\n",
        "print(list2)"
      ],
      "metadata": {
        "colab": {
          "base_uri": "https://localhost:8080/"
        },
        "id": "E2Xry4k64u6Q",
        "outputId": "2a0f4204-20d1-4cdc-dfde-96def81c9daf"
      },
      "execution_count": 74,
      "outputs": [
        {
          "output_type": "stream",
          "name": "stdout",
          "text": [
            "['apple', 'banana', 'cherry']\n"
          ]
        }
      ]
    },
    {
      "cell_type": "markdown",
      "source": [
        "**Join Two Lists**"
      ],
      "metadata": {
        "id": "PYJKKnkS47kJ"
      }
    },
    {
      "cell_type": "code",
      "source": [
        "list4 = [\"a\", \"b\", \"c\"]\n",
        "list5 = [1, 2, 3]\n",
        "\n",
        "list6 = list4 + list5\n",
        "print(list6)"
      ],
      "metadata": {
        "colab": {
          "base_uri": "https://localhost:8080/"
        },
        "id": "Gy18BKE748Ox",
        "outputId": "98c77814-bcb0-4375-d778-328a94bf51ef"
      },
      "execution_count": 75,
      "outputs": [
        {
          "output_type": "stream",
          "name": "stdout",
          "text": [
            "['a', 'b', 'c', 1, 2, 3]\n"
          ]
        }
      ]
    },
    {
      "cell_type": "code",
      "source": [
        "list4 = [\"a\", \"b\" , \"c\"]\n",
        "list5 = [1, 2, 3]\n",
        "\n",
        "for x in list5:\n",
        "  list4.append(x)\n",
        "\n",
        "print(list4)"
      ],
      "metadata": {
        "colab": {
          "base_uri": "https://localhost:8080/"
        },
        "id": "utLsrqA45LTp",
        "outputId": "bfdf2c34-c154-44ed-c5d0-db78410b823c"
      },
      "execution_count": 76,
      "outputs": [
        {
          "output_type": "stream",
          "name": "stdout",
          "text": [
            "['a', 'b', 'c', 1, 2, 3]\n"
          ]
        }
      ]
    },
    {
      "cell_type": "code",
      "source": [
        "list4 = [\"a\", \"b\" , \"c\"]\n",
        "list5 = [1, 2, 3]\n",
        "\n",
        "list4.extend(list5)\n",
        "print(list4)"
      ],
      "metadata": {
        "colab": {
          "base_uri": "https://localhost:8080/"
        },
        "id": "7V6XPRJQ5cHn",
        "outputId": "05f8aa1b-a05e-40eb-fcf4-988895bf8752"
      },
      "execution_count": 77,
      "outputs": [
        {
          "output_type": "stream",
          "name": "stdout",
          "text": [
            "['a', 'b', 'c', 1, 2, 3]\n"
          ]
        }
      ]
    },
    {
      "cell_type": "markdown",
      "source": [
        "##Tuples"
      ],
      "metadata": {
        "id": "Aaku11245_EI"
      }
    },
    {
      "cell_type": "markdown",
      "source": [
        "**creating tuples**"
      ],
      "metadata": {
        "id": "ecUB3jQS6kBT"
      }
    },
    {
      "cell_type": "code",
      "source": [
        "tuple1=()"
      ],
      "metadata": {
        "id": "qmz5lsW_6iPI"
      },
      "execution_count": 78,
      "outputs": []
    },
    {
      "cell_type": "code",
      "source": [
        "tuple2=()"
      ],
      "metadata": {
        "id": "caHMepyj6-FK"
      },
      "execution_count": 79,
      "outputs": []
    },
    {
      "cell_type": "code",
      "source": [
        "tuple3=()"
      ],
      "metadata": {
        "id": "hFbWWFrq7YsT"
      },
      "execution_count": 80,
      "outputs": []
    },
    {
      "cell_type": "code",
      "source": [
        "tuple4=()"
      ],
      "metadata": {
        "id": "332qEUnR7bKW"
      },
      "execution_count": 81,
      "outputs": []
    },
    {
      "cell_type": "markdown",
      "source": [
        "**inserting elements to tuples**"
      ],
      "metadata": {
        "id": "Ar4a-Z7S7fFk"
      }
    },
    {
      "cell_type": "code",
      "source": [
        "tuple1 = (\"apple\", \"banana\", \"orange\", \"grape\", \"kiwi\", \"mango\", \"pear\", \"pineapple\", \"strawberry\", \"watermelon\")\n",
        "\n",
        "print(tuple1)\n"
      ],
      "metadata": {
        "colab": {
          "base_uri": "https://localhost:8080/"
        },
        "id": "YLK4WhRD7yot",
        "outputId": "0662b7fa-c738-4314-a993-b4c476807c60"
      },
      "execution_count": 82,
      "outputs": [
        {
          "output_type": "stream",
          "name": "stdout",
          "text": [
            "('apple', 'banana', 'orange', 'grape', 'kiwi', 'mango', 'pear', 'pineapple', 'strawberry', 'watermelon')\n"
          ]
        }
      ]
    },
    {
      "cell_type": "markdown",
      "source": [
        "**tuple allows duplicate**"
      ],
      "metadata": {
        "id": "ohr6puQr7_3z"
      }
    },
    {
      "cell_type": "code",
      "source": [
        "tuple2=(1,2,3,3,4,5)\n",
        "tuple2"
      ],
      "metadata": {
        "colab": {
          "base_uri": "https://localhost:8080/"
        },
        "id": "gatGn8gD8FJl",
        "outputId": "84c91474-b185-4610-c425-4ef1ef1206f8"
      },
      "execution_count": 83,
      "outputs": [
        {
          "output_type": "execute_result",
          "data": {
            "text/plain": [
              "(1, 2, 3, 3, 4, 5)"
            ]
          },
          "metadata": {},
          "execution_count": 83
        }
      ]
    },
    {
      "cell_type": "markdown",
      "source": [
        "**len is used to find length**"
      ],
      "metadata": {
        "id": "QTF_wLFz8Y_n"
      }
    },
    {
      "cell_type": "code",
      "source": [
        "tuple1 = (\"apple\", \"banana\", \"orange\", \"grape\", \"kiwi\", \"mango\", \"pear\", \"pineapple\", \"strawberry\", \"watermelon\")\n",
        "print(len(tuple1))"
      ],
      "metadata": {
        "colab": {
          "base_uri": "https://localhost:8080/"
        },
        "id": "KxXdPae_8RPN",
        "outputId": "a2d34d13-3db1-415e-b185-8fec6b944279"
      },
      "execution_count": 90,
      "outputs": [
        {
          "output_type": "stream",
          "name": "stdout",
          "text": [
            "10\n"
          ]
        }
      ]
    },
    {
      "cell_type": "code",
      "source": [
        "tuple3 = (\"apple\",)\n",
        "print(type(tuple3))\n",
        "\n",
        "#NOT a tuple\n",
        "tuple3 = (\"apple\")\n",
        "print(type(tuple3))"
      ],
      "metadata": {
        "colab": {
          "base_uri": "https://localhost:8080/"
        },
        "id": "6eKUlmuV8o48",
        "outputId": "1ae4bc2f-0352-47da-da10-a1c64a40de68"
      },
      "execution_count": 85,
      "outputs": [
        {
          "output_type": "stream",
          "name": "stdout",
          "text": [
            "<class 'tuple'>\n",
            "<class 'str'>\n"
          ]
        }
      ]
    },
    {
      "cell_type": "markdown",
      "source": [
        "**Data Types**"
      ],
      "metadata": {
        "id": "gMaLf42188qs"
      }
    },
    {
      "cell_type": "code",
      "source": [
        "tuple6= (\"apple\", \"banana\", \"cherry\")\n",
        "tuple4 = (1, 5, 7, 9, 3)\n",
        "tuple5= (True, False, False)"
      ],
      "metadata": {
        "id": "hnImaVGY89S4"
      },
      "execution_count": 87,
      "outputs": []
    },
    {
      "cell_type": "markdown",
      "source": [
        "**A tuple with strings, integers and boolean values:**"
      ],
      "metadata": {
        "id": "BszoBrC29OjZ"
      }
    },
    {
      "cell_type": "code",
      "source": [
        "tuple7= (\"abc\", 34, True, 40, \"male\")\n",
        "print(tuple7)"
      ],
      "metadata": {
        "colab": {
          "base_uri": "https://localhost:8080/"
        },
        "id": "7zUQ0iYG9O-b",
        "outputId": "5397b146-dace-4e9c-ed96-d203fd5d1207"
      },
      "execution_count": 89,
      "outputs": [
        {
          "output_type": "stream",
          "name": "stdout",
          "text": [
            "('abc', 34, True, 40, 'male')\n"
          ]
        }
      ]
    },
    {
      "cell_type": "markdown",
      "source": [
        "**type()**"
      ],
      "metadata": {
        "id": "RwtqiA8T9dTP"
      }
    },
    {
      "cell_type": "code",
      "source": [
        "tuple1 = (\"apple\", \"banana\", \"orange\", \"grape\", \"kiwi\", \"mango\", \"pear\", \"pineapple\", \"strawberry\", \"watermelon\")\n",
        "print(type(tuple1))"
      ],
      "metadata": {
        "colab": {
          "base_uri": "https://localhost:8080/"
        },
        "id": "_GVtDWq79g5F",
        "outputId": "2301f822-3ec8-4f50-b2f1-a80c0c402f08"
      },
      "execution_count": 91,
      "outputs": [
        {
          "output_type": "stream",
          "name": "stdout",
          "text": [
            "<class 'tuple'>\n"
          ]
        }
      ]
    },
    {
      "cell_type": "markdown",
      "source": [
        "**The tuple() Constructor**"
      ],
      "metadata": {
        "id": "jx25VoZU9uC-"
      }
    },
    {
      "cell_type": "code",
      "source": [
        "tuple1 = (\"apple\", \"banana\", \"orange\", \"grape\", \"kiwi\", \"mango\", \"pear\", \"pineapple\", \"strawberry\", \"watermelon\")\n",
        "print(tuple1)"
      ],
      "metadata": {
        "colab": {
          "base_uri": "https://localhost:8080/"
        },
        "id": "DRoI8r6y9vZ1",
        "outputId": "8cdebf35-aa84-4046-c5eb-a7b905084b6a"
      },
      "execution_count": 92,
      "outputs": [
        {
          "output_type": "stream",
          "name": "stdout",
          "text": [
            "('apple', 'banana', 'orange', 'grape', 'kiwi', 'mango', 'pear', 'pineapple', 'strawberry', 'watermelon')\n"
          ]
        }
      ]
    },
    {
      "cell_type": "markdown",
      "source": [
        "**Access Tuple Items**"
      ],
      "metadata": {
        "id": "QaGpxxYP99wP"
      }
    },
    {
      "cell_type": "code",
      "source": [
        "tuple1 = (\"apple\", \"banana\", \"orange\", \"grape\", \"kiwi\", \"mango\", \"pear\", \"pineapple\", \"strawberry\", \"watermelon\")\n",
        "print(tuple1[1])"
      ],
      "metadata": {
        "colab": {
          "base_uri": "https://localhost:8080/"
        },
        "id": "x0rV_YLz9_J-",
        "outputId": "73643edd-0b3e-475d-e5b1-59b81d67088e"
      },
      "execution_count": 93,
      "outputs": [
        {
          "output_type": "stream",
          "name": "stdout",
          "text": [
            "banana\n"
          ]
        }
      ]
    },
    {
      "cell_type": "code",
      "source": [
        "tuple1 = (\"apple\", \"banana\", \"orange\", \"grape\", \"kiwi\", \"mango\", \"pear\", \"pineapple\", \"strawberry\", \"watermelon\")\n",
        "print(tuple1[2])"
      ],
      "metadata": {
        "colab": {
          "base_uri": "https://localhost:8080/"
        },
        "id": "-krdC8t--Q3U",
        "outputId": "1bc332ce-c94a-4857-b93e-884cd30925f5"
      },
      "execution_count": 95,
      "outputs": [
        {
          "output_type": "stream",
          "name": "stdout",
          "text": [
            "orange\n"
          ]
        }
      ]
    },
    {
      "cell_type": "code",
      "source": [
        "tuple1 = (\"apple\", \"banana\", \"orange\", \"grape\", \"kiwi\", \"mango\", \"pear\", \"pineapple\", \"strawberry\", \"watermelon\")\n",
        "print(tuple1[5])"
      ],
      "metadata": {
        "colab": {
          "base_uri": "https://localhost:8080/"
        },
        "id": "za5Y6z7w-TCj",
        "outputId": "07794f3c-9a52-451f-f7a4-4440f6d7f30c"
      },
      "execution_count": 96,
      "outputs": [
        {
          "output_type": "stream",
          "name": "stdout",
          "text": [
            "mango\n"
          ]
        }
      ]
    },
    {
      "cell_type": "code",
      "source": [
        "tuple1 = (\"apple\", \"banana\", \"orange\", \"grape\", \"kiwi\", \"mango\", \"pear\", \"pineapple\", \"strawberry\", \"watermelon\")\n",
        "print(tuple1[7])"
      ],
      "metadata": {
        "colab": {
          "base_uri": "https://localhost:8080/"
        },
        "id": "1lUCxZcP-Vkb",
        "outputId": "daf7cccc-5a0a-4b41-e25e-f94fc3e8ce5d"
      },
      "execution_count": 97,
      "outputs": [
        {
          "output_type": "stream",
          "name": "stdout",
          "text": [
            "pineapple\n"
          ]
        }
      ]
    },
    {
      "cell_type": "code",
      "source": [
        "tuple1 = (\"apple\", \"banana\", \"orange\", \"grape\", \"kiwi\", \"mango\", \"pear\", \"pineapple\", \"strawberry\", \"watermelon\")\n",
        "print(tuple1[8])"
      ],
      "metadata": {
        "colab": {
          "base_uri": "https://localhost:8080/"
        },
        "id": "_iYm63qB-X6-",
        "outputId": "85be3247-1569-4e77-f976-db239d3131c0"
      },
      "execution_count": 99,
      "outputs": [
        {
          "output_type": "stream",
          "name": "stdout",
          "text": [
            "strawberry\n"
          ]
        }
      ]
    },
    {
      "cell_type": "markdown",
      "source": [
        "**Negative Indexing**"
      ],
      "metadata": {
        "id": "pogS_K10-JX7"
      }
    },
    {
      "cell_type": "code",
      "source": [
        "tuple1 = (\"apple\", \"banana\", \"orange\", \"grape\", \"kiwi\", \"mango\", \"pear\", \"pineapple\", \"strawberry\", \"watermelon\")\n",
        "print(tuple1[-1])"
      ],
      "metadata": {
        "colab": {
          "base_uri": "https://localhost:8080/"
        },
        "id": "moPtWo34-K35",
        "outputId": "845cd950-88ed-449a-f8cd-4adfb5903996"
      },
      "execution_count": 100,
      "outputs": [
        {
          "output_type": "stream",
          "name": "stdout",
          "text": [
            "watermelon\n"
          ]
        }
      ]
    },
    {
      "cell_type": "code",
      "source": [
        "tuple1 = (\"apple\", \"banana\", \"orange\", \"grape\", \"kiwi\", \"mango\", \"pear\", \"pineapple\", \"strawberry\", \"watermelon\")\n",
        "print(tuple1[-9])"
      ],
      "metadata": {
        "colab": {
          "base_uri": "https://localhost:8080/"
        },
        "id": "Pvk5cS8L-hQq",
        "outputId": "27d60757-7c3a-4381-c6e1-eea0e29be4bc"
      },
      "execution_count": 101,
      "outputs": [
        {
          "output_type": "stream",
          "name": "stdout",
          "text": [
            "banana\n"
          ]
        }
      ]
    },
    {
      "cell_type": "code",
      "source": [
        "tuple1 = (\"apple\", \"banana\", \"orange\", \"grape\", \"kiwi\", \"mango\", \"pear\", \"pineapple\", \"strawberry\", \"watermelon\")\n",
        "print(tuple1[-7])"
      ],
      "metadata": {
        "colab": {
          "base_uri": "https://localhost:8080/"
        },
        "id": "g5-3ZKxC-kQB",
        "outputId": "03d53c96-c1ae-4ab0-ff17-650ed11c93f9"
      },
      "execution_count": 102,
      "outputs": [
        {
          "output_type": "stream",
          "name": "stdout",
          "text": [
            "grape\n"
          ]
        }
      ]
    },
    {
      "cell_type": "code",
      "source": [
        "tuple1 = (\"apple\", \"banana\", \"orange\", \"grape\", \"kiwi\", \"mango\", \"pear\", \"pineapple\", \"strawberry\", \"watermelon\")\n",
        "print(tuple1[-4])"
      ],
      "metadata": {
        "colab": {
          "base_uri": "https://localhost:8080/"
        },
        "id": "LhN9Uavb-m4U",
        "outputId": "2c8f8463-02b5-42e5-c152-1969fb6bfdbf"
      },
      "execution_count": 103,
      "outputs": [
        {
          "output_type": "stream",
          "name": "stdout",
          "text": [
            "pear\n"
          ]
        }
      ]
    },
    {
      "cell_type": "code",
      "source": [
        "tuple1 = (\"apple\", \"banana\", \"orange\", \"grape\", \"kiwi\", \"mango\", \"pear\", \"pineapple\", \"strawberry\", \"watermelon\")\n",
        "print(tuple1[-2])"
      ],
      "metadata": {
        "colab": {
          "base_uri": "https://localhost:8080/"
        },
        "id": "JIqOxvyC-pjH",
        "outputId": "d15867e1-2ab3-497c-ed2e-8b82e437e05a"
      },
      "execution_count": 104,
      "outputs": [
        {
          "output_type": "stream",
          "name": "stdout",
          "text": [
            "strawberry\n"
          ]
        }
      ]
    },
    {
      "cell_type": "markdown",
      "source": [
        "**Range of Indexes**"
      ],
      "metadata": {
        "id": "7dzN-W8p-u0z"
      }
    },
    {
      "cell_type": "code",
      "source": [
        "tuple1 = (\"apple\", \"banana\", \"orange\", \"grape\", \"kiwi\", \"mango\", \"pear\", \"pineapple\", \"strawberry\", \"watermelon\")\n",
        "print(tuple1[1:6])"
      ],
      "metadata": {
        "colab": {
          "base_uri": "https://localhost:8080/"
        },
        "id": "igVBakxp-wdq",
        "outputId": "8d74f020-5b8f-4c72-e604-f61277689679"
      },
      "execution_count": 105,
      "outputs": [
        {
          "output_type": "stream",
          "name": "stdout",
          "text": [
            "('banana', 'orange', 'grape', 'kiwi', 'mango')\n"
          ]
        }
      ]
    },
    {
      "cell_type": "code",
      "source": [
        "tuple1 = (\"apple\", \"banana\", \"orange\", \"grape\", \"kiwi\", \"mango\", \"pear\", \"pineapple\", \"strawberry\", \"watermelon\")\n",
        "print(tuple1[2:8])"
      ],
      "metadata": {
        "colab": {
          "base_uri": "https://localhost:8080/"
        },
        "id": "mEKwlKts-4K9",
        "outputId": "3acda34e-1c4e-43ed-abdb-18923aa94d11"
      },
      "execution_count": 106,
      "outputs": [
        {
          "output_type": "stream",
          "name": "stdout",
          "text": [
            "('orange', 'grape', 'kiwi', 'mango', 'pear', 'pineapple')\n"
          ]
        }
      ]
    },
    {
      "cell_type": "code",
      "source": [
        "tuple1 = (\"apple\", \"banana\", \"orange\", \"grape\", \"kiwi\", \"mango\", \"pear\", \"pineapple\", \"strawberry\", \"watermelon\")\n",
        "print(tuple1[6:9])"
      ],
      "metadata": {
        "colab": {
          "base_uri": "https://localhost:8080/"
        },
        "id": "jnEC6SEA-8a7",
        "outputId": "648a3c46-5847-4d5e-cd29-dd62f4367a23"
      },
      "execution_count": 107,
      "outputs": [
        {
          "output_type": "stream",
          "name": "stdout",
          "text": [
            "('pear', 'pineapple', 'strawberry')\n"
          ]
        }
      ]
    },
    {
      "cell_type": "code",
      "source": [
        "tuple1 = (\"apple\", \"banana\", \"orange\", \"grape\", \"kiwi\", \"mango\", \"pear\", \"pineapple\", \"strawberry\", \"watermelon\")\n",
        "print(tuple1[:5])"
      ],
      "metadata": {
        "colab": {
          "base_uri": "https://localhost:8080/"
        },
        "id": "M4SsRbEQ_FEI",
        "outputId": "0950fb2c-bb83-4ab1-d0fa-826387a6ac28"
      },
      "execution_count": 108,
      "outputs": [
        {
          "output_type": "stream",
          "name": "stdout",
          "text": [
            "('apple', 'banana', 'orange', 'grape', 'kiwi')\n"
          ]
        }
      ]
    },
    {
      "cell_type": "code",
      "source": [
        "tuple1 = (\"apple\", \"banana\", \"orange\", \"grape\", \"kiwi\", \"mango\", \"pear\", \"pineapple\", \"strawberry\", \"watermelon\")\n",
        "print(tuple1[:3])"
      ],
      "metadata": {
        "colab": {
          "base_uri": "https://localhost:8080/"
        },
        "id": "paW3RUEd_I4j",
        "outputId": "56000c5a-97c8-4f4f-a07a-fe3cf64294d7"
      },
      "execution_count": 109,
      "outputs": [
        {
          "output_type": "stream",
          "name": "stdout",
          "text": [
            "('apple', 'banana', 'orange')\n"
          ]
        }
      ]
    },
    {
      "cell_type": "code",
      "source": [
        "tuple1 = (\"apple\", \"banana\", \"orange\", \"grape\", \"kiwi\", \"mango\", \"pear\", \"pineapple\", \"strawberry\", \"watermelon\")\n",
        "print(tuple1[-2:])"
      ],
      "metadata": {
        "colab": {
          "base_uri": "https://localhost:8080/"
        },
        "id": "7MW-FE2K_L1J",
        "outputId": "c5b0aeaf-17ea-49a7-c969-1d144f4d2cb6"
      },
      "execution_count": 110,
      "outputs": [
        {
          "output_type": "stream",
          "name": "stdout",
          "text": [
            "('strawberry', 'watermelon')\n"
          ]
        }
      ]
    },
    {
      "cell_type": "code",
      "source": [
        "tuple1 = (\"apple\", \"banana\", \"orange\", \"grape\", \"kiwi\", \"mango\", \"pear\", \"pineapple\", \"strawberry\", \"watermelon\")\n",
        "print(tuple1[-9:])"
      ],
      "metadata": {
        "colab": {
          "base_uri": "https://localhost:8080/"
        },
        "id": "td5Df_Ju_OdH",
        "outputId": "c26c8a4b-a9ca-4089-9cbf-0d80e30ad42c"
      },
      "execution_count": 111,
      "outputs": [
        {
          "output_type": "stream",
          "name": "stdout",
          "text": [
            "('banana', 'orange', 'grape', 'kiwi', 'mango', 'pear', 'pineapple', 'strawberry', 'watermelon')\n"
          ]
        }
      ]
    },
    {
      "cell_type": "markdown",
      "source": [
        "**Range of Negative Indexes**"
      ],
      "metadata": {
        "id": "n6HRzae__UjI"
      }
    },
    {
      "cell_type": "code",
      "source": [
        "tuple1 = (\"apple\", \"banana\", \"orange\", \"grape\", \"kiwi\", \"mango\", \"pear\", \"pineapple\", \"strawberry\", \"watermelon\")\n",
        "print(tuple1[-9:-2])"
      ],
      "metadata": {
        "colab": {
          "base_uri": "https://localhost:8080/"
        },
        "id": "ZoUgTlWF_WP9",
        "outputId": "7eef4b22-f9c9-4dc4-fb36-a60fd33e0b9f"
      },
      "execution_count": 112,
      "outputs": [
        {
          "output_type": "stream",
          "name": "stdout",
          "text": [
            "('banana', 'orange', 'grape', 'kiwi', 'mango', 'pear', 'pineapple')\n"
          ]
        }
      ]
    },
    {
      "cell_type": "code",
      "source": [
        "tuple1 = (\"apple\", \"banana\", \"orange\", \"grape\", \"kiwi\", \"mango\", \"pear\", \"pineapple\", \"strawberry\", \"watermelon\")\n",
        "print(tuple1[-5:-3])"
      ],
      "metadata": {
        "colab": {
          "base_uri": "https://localhost:8080/"
        },
        "id": "UL01jiSC_cvS",
        "outputId": "9e31398f-4700-428a-a1c0-bd9e70513c52"
      },
      "execution_count": 113,
      "outputs": [
        {
          "output_type": "stream",
          "name": "stdout",
          "text": [
            "('mango', 'pear')\n"
          ]
        }
      ]
    },
    {
      "cell_type": "code",
      "source": [
        "tuple1 = (\"apple\", \"banana\", \"orange\", \"grape\", \"kiwi\", \"mango\", \"pear\", \"pineapple\", \"strawberry\", \"watermelon\")\n",
        "print(tuple1[-7:-1])"
      ],
      "metadata": {
        "colab": {
          "base_uri": "https://localhost:8080/"
        },
        "id": "pQzAY8ij_iB_",
        "outputId": "04d6ef5c-f23a-400a-fdd2-a4236f559383"
      },
      "execution_count": 114,
      "outputs": [
        {
          "output_type": "stream",
          "name": "stdout",
          "text": [
            "('grape', 'kiwi', 'mango', 'pear', 'pineapple', 'strawberry')\n"
          ]
        }
      ]
    },
    {
      "cell_type": "markdown",
      "source": [
        "**Check if Item Exists**"
      ],
      "metadata": {
        "id": "2p0ga4WE_w6h"
      }
    },
    {
      "cell_type": "code",
      "source": [
        "tuple1 = (\"apple\", \"banana\", \"orange\", \"grape\", \"kiwi\", \"mango\", \"pear\", \"pineapple\", \"strawberry\", \"watermelon\")\n",
        "\n",
        "if \"apple\" in tuple1:\n",
        "    print(\"Yes, 'apple' is in the tuple1\")\n",
        "else:\n",
        "    print(\"No, 'apple' is not in the tuple1\")\n"
      ],
      "metadata": {
        "colab": {
          "base_uri": "https://localhost:8080/"
        },
        "id": "W9tOmwBb_yUp",
        "outputId": "6915e5b0-8f3b-40f0-a6da-549f73eb9c86"
      },
      "execution_count": 117,
      "outputs": [
        {
          "output_type": "stream",
          "name": "stdout",
          "text": [
            "Yes, 'apple' is in the tuple1\n"
          ]
        }
      ]
    },
    {
      "cell_type": "markdown",
      "source": [
        "**Change Tuple Values**"
      ],
      "metadata": {
        "id": "ld1Nu9d0Aaoh"
      }
    },
    {
      "cell_type": "code",
      "source": [
        "x = (\"apple\", \"banana\", \"cherry\")\n",
        "y = list(x)\n",
        "y[1] = \"kiwi\"\n",
        "x = tuple(y)\n",
        "\n",
        "print(x)"
      ],
      "metadata": {
        "colab": {
          "base_uri": "https://localhost:8080/"
        },
        "id": "XwcmDtMZ_-mi",
        "outputId": "4589c2a8-f2a7-457c-a5ee-494257b5d2bf"
      },
      "execution_count": 118,
      "outputs": [
        {
          "output_type": "stream",
          "name": "stdout",
          "text": [
            "('apple', 'kiwi', 'cherry')\n"
          ]
        }
      ]
    },
    {
      "cell_type": "markdown",
      "source": [
        "**Add Items**"
      ],
      "metadata": {
        "id": "4edlrDVWAhSF"
      }
    },
    {
      "cell_type": "code",
      "source": [
        "#Convert the tuple into a list, add \"orange\", and convert it back into a tuple:\n",
        "thistuple = (\"apple\", \"banana\", \"cherry\")\n",
        "y = list(thistuple)\n",
        "y.append(\"orange\")\n",
        "thistuple = tuple(y)\n",
        "print(tuple(y))"
      ],
      "metadata": {
        "colab": {
          "base_uri": "https://localhost:8080/"
        },
        "id": "NGRZWOUaAeup",
        "outputId": "96411705-a645-4e66-f427-2a2f70cc2a33"
      },
      "execution_count": 120,
      "outputs": [
        {
          "output_type": "stream",
          "name": "stdout",
          "text": [
            "('apple', 'banana', 'cherry', 'orange')\n"
          ]
        }
      ]
    },
    {
      "cell_type": "markdown",
      "source": [
        "**Add tuple to a tuple.**"
      ],
      "metadata": {
        "id": "wz6kl5RrA1zd"
      }
    },
    {
      "cell_type": "code",
      "source": [
        "thistuple = (\"apple\", \"banana\", \"cherry\")\n",
        "y = (\"orange\",)\n",
        "thistuple += y\n",
        "\n",
        "print(thistuple)"
      ],
      "metadata": {
        "colab": {
          "base_uri": "https://localhost:8080/"
        },
        "id": "hA3BBjIMA3rV",
        "outputId": "31bdeeee-873a-4bf3-a827-d3a1f98b5a5d"
      },
      "execution_count": 121,
      "outputs": [
        {
          "output_type": "stream",
          "name": "stdout",
          "text": [
            "('apple', 'banana', 'cherry', 'orange')\n"
          ]
        }
      ]
    },
    {
      "cell_type": "markdown",
      "source": [
        "**Remove Items**"
      ],
      "metadata": {
        "id": "Gna6mpmgBAuZ"
      }
    },
    {
      "cell_type": "code",
      "source": [
        "thistuple = (\"apple\", \"banana\", \"cherry\")\n",
        "y = list(thistuple)\n",
        "y.remove(\"apple\")\n",
        "thistuple = tuple(y)\n",
        "print(tuple(y))"
      ],
      "metadata": {
        "colab": {
          "base_uri": "https://localhost:8080/"
        },
        "id": "bW5xvg6XBB22",
        "outputId": "fee701c7-be5d-4680-d59a-d5697ee49569"
      },
      "execution_count": 123,
      "outputs": [
        {
          "output_type": "stream",
          "name": "stdout",
          "text": [
            "('banana', 'cherry')\n"
          ]
        }
      ]
    },
    {
      "cell_type": "code",
      "source": [
        "thistuple = (\"apple\", \"banana\", \"cherry\")\n",
        "del thistuple\n",
        "#print(thistuple)"
      ],
      "metadata": {
        "id": "vClDdZUEBHvQ"
      },
      "execution_count": 125,
      "outputs": []
    },
    {
      "cell_type": "markdown",
      "source": [
        "**Unpacking a Tuple**"
      ],
      "metadata": {
        "id": "BshDkJYsBWSP"
      }
    },
    {
      "cell_type": "code",
      "source": [
        "#Packing a tuple:\n",
        "\n",
        "fruits = (\"apple\", \"banana\", \"cherry\")\n",
        "print(fruits)"
      ],
      "metadata": {
        "colab": {
          "base_uri": "https://localhost:8080/"
        },
        "id": "6ENfDhg7BYdg",
        "outputId": "6556e4d2-18a6-4a1d-fbe9-c524b233dfcd"
      },
      "execution_count": 127,
      "outputs": [
        {
          "output_type": "stream",
          "name": "stdout",
          "text": [
            "('apple', 'banana', 'cherry')\n"
          ]
        }
      ]
    },
    {
      "cell_type": "code",
      "source": [
        "#Unpacking a tuple:\n",
        "\n",
        "fruits = (\"apple\", \"banana\", \"cherry\")\n",
        "\n",
        "(green, yellow, red) = fruits\n",
        "\n",
        "print(green)\n",
        "print(yellow)\n",
        "print(red)"
      ],
      "metadata": {
        "colab": {
          "base_uri": "https://localhost:8080/"
        },
        "id": "LCahnGV6BgU3",
        "outputId": "c2aab70b-b30d-4d5a-941d-112848ace0b0"
      },
      "execution_count": 128,
      "outputs": [
        {
          "output_type": "stream",
          "name": "stdout",
          "text": [
            "apple\n",
            "banana\n",
            "cherry\n"
          ]
        }
      ]
    },
    {
      "cell_type": "markdown",
      "source": [
        "** Asterisk* **"
      ],
      "metadata": {
        "id": "FzxCxiIlBoQH"
      }
    },
    {
      "cell_type": "code",
      "source": [
        "fruits = (\"apple\", \"banana\", \"cherry\", \"strawberry\", \"raspberry\")\n",
        "\n",
        "(green, yellow, *red) = fruits\n",
        "\n",
        "print(green)\n",
        "print(yellow)\n",
        "print(red)"
      ],
      "metadata": {
        "colab": {
          "base_uri": "https://localhost:8080/"
        },
        "id": "-xSvAcDPBqYG",
        "outputId": "c28c3eb2-58ba-4b17-d3ef-9c3eee458689"
      },
      "execution_count": 129,
      "outputs": [
        {
          "output_type": "stream",
          "name": "stdout",
          "text": [
            "apple\n",
            "banana\n",
            "['cherry', 'strawberry', 'raspberry']\n"
          ]
        }
      ]
    },
    {
      "cell_type": "code",
      "source": [
        "fruits = (\"apple\", \"mango\", \"papaya\", \"pineapple\", \"cherry\")\n",
        "\n",
        "(green, *tropic, red) = fruits\n",
        "\n",
        "print(green)\n",
        "print(tropic)\n",
        "print(red)"
      ],
      "metadata": {
        "colab": {
          "base_uri": "https://localhost:8080/"
        },
        "id": "cOZ1zFexB3o3",
        "outputId": "34b6e63f-5a28-424e-9400-c0e445f2439f"
      },
      "execution_count": 130,
      "outputs": [
        {
          "output_type": "stream",
          "name": "stdout",
          "text": [
            "apple\n",
            "['mango', 'papaya', 'pineapple']\n",
            "cherry\n"
          ]
        }
      ]
    },
    {
      "cell_type": "markdown",
      "source": [
        "**Loop Through a Tuple**"
      ],
      "metadata": {
        "id": "siF_JblnB8N7"
      }
    },
    {
      "cell_type": "code",
      "source": [
        "thistuple = (\"apple\", \"banana\", \"cherry\")\n",
        "for x in thistuple:\n",
        "  print(x)"
      ],
      "metadata": {
        "colab": {
          "base_uri": "https://localhost:8080/"
        },
        "id": "IL_3ntJlB9t5",
        "outputId": "3d2c98e7-642a-49fb-e9ca-91a3e0bf21c7"
      },
      "execution_count": 131,
      "outputs": [
        {
          "output_type": "stream",
          "name": "stdout",
          "text": [
            "apple\n",
            "banana\n",
            "cherry\n"
          ]
        }
      ]
    },
    {
      "cell_type": "markdown",
      "source": [
        "**Loop Through the Index Numbers**"
      ],
      "metadata": {
        "id": "tstiZcV-CDCH"
      }
    },
    {
      "cell_type": "code",
      "source": [
        "thistuple = (\"apple\", \"banana\", \"cherry\")\n",
        "for i in range(len(thistuple)):\n",
        "  print(thistuple[i])"
      ],
      "metadata": {
        "colab": {
          "base_uri": "https://localhost:8080/"
        },
        "id": "lMe2JcTRCAuK",
        "outputId": "342e815e-4a42-4583-c2da-418f72dd6921"
      },
      "execution_count": 132,
      "outputs": [
        {
          "output_type": "stream",
          "name": "stdout",
          "text": [
            "apple\n",
            "banana\n",
            "cherry\n"
          ]
        }
      ]
    },
    {
      "cell_type": "markdown",
      "source": [
        "**Using a While Loop**"
      ],
      "metadata": {
        "id": "nZ_tLHXmCP7R"
      }
    },
    {
      "cell_type": "code",
      "source": [
        "thistuple = (\"apple\", \"banana\", \"cherry\")\n",
        "i = 0\n",
        "while i < len(thistuple):\n",
        "  print(thistuple[i])\n",
        "  i = i + 1"
      ],
      "metadata": {
        "colab": {
          "base_uri": "https://localhost:8080/"
        },
        "id": "2Qfvy73PCTv3",
        "outputId": "ff7dc4f9-473e-4ab7-edc7-0d32a9a75a10"
      },
      "execution_count": 133,
      "outputs": [
        {
          "output_type": "stream",
          "name": "stdout",
          "text": [
            "apple\n",
            "banana\n",
            "cherry\n"
          ]
        }
      ]
    },
    {
      "cell_type": "markdown",
      "source": [
        "**Join Tuples**"
      ],
      "metadata": {
        "id": "LtL_OKgeCZZe"
      }
    },
    {
      "cell_type": "code",
      "source": [
        "tuple1 = (\"a\", \"b\" , \"c\")\n",
        "tuple2 = (1, 2, 3)\n",
        "\n",
        "tuple3 = tuple1 + tuple2\n",
        "print(tuple3)"
      ],
      "metadata": {
        "colab": {
          "base_uri": "https://localhost:8080/"
        },
        "id": "1kD8E5ohCbLI",
        "outputId": "adf460c1-346a-435b-b7af-62c72ea5ff0c"
      },
      "execution_count": 134,
      "outputs": [
        {
          "output_type": "stream",
          "name": "stdout",
          "text": [
            "('a', 'b', 'c', 1, 2, 3)\n"
          ]
        }
      ]
    },
    {
      "cell_type": "markdown",
      "source": [
        "**Multiply Tuples**"
      ],
      "metadata": {
        "id": "m__BezJpCiHO"
      }
    },
    {
      "cell_type": "code",
      "source": [
        "fruits = (\"apple\", \"banana\", \"cherry\")\n",
        "mytuple = fruits * 2\n",
        "\n",
        "print(mytuple)"
      ],
      "metadata": {
        "colab": {
          "base_uri": "https://localhost:8080/"
        },
        "id": "0L5xLh_1CjXb",
        "outputId": "f1b978b6-761f-4a03-8478-8ff8a983d005"
      },
      "execution_count": 135,
      "outputs": [
        {
          "output_type": "stream",
          "name": "stdout",
          "text": [
            "('apple', 'banana', 'cherry', 'apple', 'banana', 'cherry')\n"
          ]
        }
      ]
    },
    {
      "cell_type": "markdown",
      "source": [
        "** **Set** **"
      ],
      "metadata": {
        "id": "zIK3UUNKC0u5"
      }
    },
    {
      "cell_type": "code",
      "source": [
        "thisset = {\"apple\", \"banana\", \"cherry\"}\n",
        "\n",
        "for x in thisset:\n",
        "  print(x)"
      ],
      "metadata": {
        "colab": {
          "base_uri": "https://localhost:8080/"
        },
        "id": "wofvK0ghC15R",
        "outputId": "8ff5fc28-563e-4d56-bf81-a2d2458962d9"
      },
      "execution_count": 136,
      "outputs": [
        {
          "output_type": "stream",
          "name": "stdout",
          "text": [
            "banana\n",
            "cherry\n",
            "apple\n"
          ]
        }
      ]
    },
    {
      "cell_type": "markdown",
      "source": [
        "**Once a set is created, you cannot change its items, but you can add new items.**"
      ],
      "metadata": {
        "id": "eF4QCM3ODANM"
      }
    },
    {
      "cell_type": "markdown",
      "source": [
        "**Add Items**"
      ],
      "metadata": {
        "id": "cck8XBNJDEj2"
      }
    },
    {
      "cell_type": "code",
      "source": [
        "thisset = {\"apple\", \"banana\", \"cherry\"}\n",
        "\n",
        "thisset.add(\"orange\")\n",
        "\n",
        "print(thisset)"
      ],
      "metadata": {
        "colab": {
          "base_uri": "https://localhost:8080/"
        },
        "id": "TsIca0PmDCCH",
        "outputId": "2e0a6b52-078d-46f9-e97e-89d7b6f2f9cd"
      },
      "execution_count": 137,
      "outputs": [
        {
          "output_type": "stream",
          "name": "stdout",
          "text": [
            "{'banana', 'cherry', 'apple', 'orange'}\n"
          ]
        }
      ]
    },
    {
      "cell_type": "code",
      "source": [
        "thisset = {\"apple\", \"banana\", \"cherry\"}\n",
        "tropical = {\"pineapple\", \"mango\", \"papaya\"}\n",
        "\n",
        "thisset.update(tropical)\n",
        "\n",
        "print(thisset)"
      ],
      "metadata": {
        "colab": {
          "base_uri": "https://localhost:8080/"
        },
        "id": "y8ZWjR9gDN7Y",
        "outputId": "23c86784-f0de-43b9-82b0-22818383f4fc"
      },
      "execution_count": 138,
      "outputs": [
        {
          "output_type": "stream",
          "name": "stdout",
          "text": [
            "{'banana', 'papaya', 'cherry', 'pineapple', 'apple', 'mango'}\n"
          ]
        }
      ]
    },
    {
      "cell_type": "code",
      "source": [
        "thisset = {\"apple\", \"banana\", \"cherry\"}\n",
        "mylist = [\"kiwi\", \"orange\"]\n",
        "\n",
        "thisset.update(mylist)\n",
        "\n",
        "print(thisset)"
      ],
      "metadata": {
        "colab": {
          "base_uri": "https://localhost:8080/"
        },
        "id": "d2cdeCDpDSva",
        "outputId": "c7680a44-4eea-4436-a3ea-1496c22736f1"
      },
      "execution_count": 139,
      "outputs": [
        {
          "output_type": "stream",
          "name": "stdout",
          "text": [
            "{'kiwi', 'apple', 'banana', 'orange', 'cherry'}\n"
          ]
        }
      ]
    },
    {
      "cell_type": "markdown",
      "source": [
        "**Remove Item**"
      ],
      "metadata": {
        "id": "taqYdhJ5DV9P"
      }
    },
    {
      "cell_type": "code",
      "source": [
        "thisset = {\"apple\", \"banana\", \"cherry\"}\n",
        "\n",
        "thisset.remove(\"banana\")\n",
        "\n",
        "print(thisset)"
      ],
      "metadata": {
        "colab": {
          "base_uri": "https://localhost:8080/"
        },
        "id": "R5It1VyFDXKO",
        "outputId": "b13deadd-ae29-4600-e9ca-1ab5c94bb70c"
      },
      "execution_count": 140,
      "outputs": [
        {
          "output_type": "stream",
          "name": "stdout",
          "text": [
            "{'cherry', 'apple'}\n"
          ]
        }
      ]
    },
    {
      "cell_type": "code",
      "source": [
        "thisset = {\"apple\", \"banana\", \"cherry\"}\n",
        "\n",
        "thisset.discard(\"banana\")\n",
        "\n",
        "print(thisset)"
      ],
      "metadata": {
        "colab": {
          "base_uri": "https://localhost:8080/"
        },
        "id": "AX5ptx3ZDb_i",
        "outputId": "e0e3b724-e8f6-4f1d-f32d-6c19d3c24871"
      },
      "execution_count": 141,
      "outputs": [
        {
          "output_type": "stream",
          "name": "stdout",
          "text": [
            "{'cherry', 'apple'}\n"
          ]
        }
      ]
    },
    {
      "cell_type": "code",
      "source": [
        "thisset = {\"apple\", \"banana\", \"cherry\"}\n",
        "\n",
        "x = thisset.pop()\n",
        "\n",
        "print(x)\n",
        "\n",
        "print(thisset)"
      ],
      "metadata": {
        "colab": {
          "base_uri": "https://localhost:8080/"
        },
        "id": "OM10-NMCDfV1",
        "outputId": "a1a0d3ae-fc49-421d-a2f2-240beb334f13"
      },
      "execution_count": 142,
      "outputs": [
        {
          "output_type": "stream",
          "name": "stdout",
          "text": [
            "banana\n",
            "{'cherry', 'apple'}\n"
          ]
        }
      ]
    },
    {
      "cell_type": "markdown",
      "source": [
        "**The clear() method empties the set:**"
      ],
      "metadata": {
        "id": "tKxEw_MaDoqf"
      }
    },
    {
      "cell_type": "code",
      "source": [
        "\n",
        "thisset = {\"apple\", \"banana\", \"cherry\"}\n",
        "\n",
        "thisset.clear()\n",
        "\n",
        "print(thisset)"
      ],
      "metadata": {
        "colab": {
          "base_uri": "https://localhost:8080/"
        },
        "id": "MWBcUhcoDgng",
        "outputId": "5b98ab14-c6ca-41c0-bc1c-df923df25c8b"
      },
      "execution_count": 143,
      "outputs": [
        {
          "output_type": "stream",
          "name": "stdout",
          "text": [
            "set()\n"
          ]
        }
      ]
    },
    {
      "cell_type": "code",
      "source": [
        "thisset = {\"apple\", \"banana\", \"cherry\"}\n",
        "\n",
        "del thisset\n"
      ],
      "metadata": {
        "id": "s0OZYafZDtxr"
      },
      "execution_count": 145,
      "outputs": []
    },
    {
      "cell_type": "markdown",
      "source": [
        "**Loop Items**"
      ],
      "metadata": {
        "id": "LnljkPAWDy35"
      }
    },
    {
      "cell_type": "code",
      "source": [
        "thisset = {\"apple\", \"banana\", \"cherry\"}\n",
        "\n",
        "for x in thisset:\n",
        "  print(x)"
      ],
      "metadata": {
        "colab": {
          "base_uri": "https://localhost:8080/"
        },
        "id": "uJpP_fBdD0w3",
        "outputId": "a995bf97-05a1-4511-f419-9e67b2117867"
      },
      "execution_count": 146,
      "outputs": [
        {
          "output_type": "stream",
          "name": "stdout",
          "text": [
            "banana\n",
            "cherry\n",
            "apple\n"
          ]
        }
      ]
    },
    {
      "cell_type": "markdown",
      "source": [
        "**Join Sets**"
      ],
      "metadata": {
        "id": "o2kO4B16D5cD"
      }
    },
    {
      "cell_type": "markdown",
      "source": [
        "**Union**\n",
        "\n",
        "The union() method returns a new set with all items from both sets.**"
      ],
      "metadata": {
        "id": "3KLI0e49D6un"
      }
    },
    {
      "cell_type": "code",
      "source": [
        "set1 = {\"a\", \"b\", \"c\"}\n",
        "set2 = {1, 2, 3}\n",
        "\n",
        "set3 = set1.union(set2)\n",
        "print(set3)"
      ],
      "metadata": {
        "colab": {
          "base_uri": "https://localhost:8080/"
        },
        "id": "cpp7zIJaEALA",
        "outputId": "f742fe9c-78d5-4968-e089-22020a680c79"
      },
      "execution_count": 147,
      "outputs": [
        {
          "output_type": "stream",
          "name": "stdout",
          "text": [
            "{1, 2, 3, 'b', 'a', 'c'}\n"
          ]
        }
      ]
    },
    {
      "cell_type": "markdown",
      "source": [
        "**Use | to join two sets:**"
      ],
      "metadata": {
        "id": "Lv68WIuDEFd-"
      }
    },
    {
      "cell_type": "code",
      "source": [
        "set1 = {\"a\", \"b\", \"c\"}\n",
        "set2 = {1, 2, 3}\n",
        "\n",
        "set3 = set1 | set2\n",
        "print(set3)"
      ],
      "metadata": {
        "colab": {
          "base_uri": "https://localhost:8080/"
        },
        "id": "083tI4uZEGzD",
        "outputId": "d0fde081-cff7-40e6-b0d7-a39cb7c8afe4"
      },
      "execution_count": 148,
      "outputs": [
        {
          "output_type": "stream",
          "name": "stdout",
          "text": [
            "{1, 2, 3, 'b', 'a', 'c'}\n"
          ]
        }
      ]
    },
    {
      "cell_type": "markdown",
      "source": [
        "**Join Multiple Sets**"
      ],
      "metadata": {
        "id": "y2f6jnznEL5U"
      }
    },
    {
      "cell_type": "code",
      "source": [
        "set1 = {\"a\", \"b\", \"c\"}\n",
        "set2 = {1, 2, 3}\n",
        "set3 = {\"John\", \"Elena\"}\n",
        "set4 = {\"apple\", \"bananas\", \"cherry\"}\n",
        "\n",
        "myset = set1.union(set2, set3, set4)\n",
        "print(myset)"
      ],
      "metadata": {
        "colab": {
          "base_uri": "https://localhost:8080/"
        },
        "id": "ZTQKU-SEEN5A",
        "outputId": "f5e2f063-ac58-4682-9689-6aef5c5e54e9"
      },
      "execution_count": 149,
      "outputs": [
        {
          "output_type": "stream",
          "name": "stdout",
          "text": [
            "{1, 2, 3, 'b', 'bananas', 'a', 'c', 'apple', 'John', 'Elena', 'cherry'}\n"
          ]
        }
      ]
    },
    {
      "cell_type": "code",
      "source": [
        "set1 = {\"a\", \"b\", \"c\"}\n",
        "set2 = {1, 2, 3}\n",
        "set3 = {\"John\", \"Elena\"}\n",
        "set4 = {\"apple\", \"bananas\", \"cherry\"}\n",
        "\n",
        "myset = set1 | set2 | set3 |set4\n",
        "print(myset)"
      ],
      "metadata": {
        "colab": {
          "base_uri": "https://localhost:8080/"
        },
        "id": "U_6szSj5ETP6",
        "outputId": "db2e0456-b504-4fc8-d643-c1531d19bfd9"
      },
      "execution_count": 150,
      "outputs": [
        {
          "output_type": "stream",
          "name": "stdout",
          "text": [
            "{1, 2, 3, 'b', 'bananas', 'a', 'c', 'apple', 'John', 'Elena', 'cherry'}\n"
          ]
        }
      ]
    },
    {
      "cell_type": "markdown",
      "source": [
        "**Join a Set and a Tuple**"
      ],
      "metadata": {
        "id": "yP4I7sAZEWEN"
      }
    },
    {
      "cell_type": "code",
      "source": [
        "x = {\"a\", \"b\", \"c\"}\n",
        "y = (1, 2, 3)\n",
        "\n",
        "z = x.union(y)\n",
        "print(z)"
      ],
      "metadata": {
        "colab": {
          "base_uri": "https://localhost:8080/"
        },
        "id": "-n6VHZSnEX6G",
        "outputId": "d27a3b0b-76ff-453b-bdc7-12abf799dfe7"
      },
      "execution_count": 151,
      "outputs": [
        {
          "output_type": "stream",
          "name": "stdout",
          "text": [
            "{1, 2, 3, 'b', 'a', 'c'}\n"
          ]
        }
      ]
    },
    {
      "cell_type": "markdown",
      "source": [
        "**Update**"
      ],
      "metadata": {
        "id": "Ck1UUiMVEdqo"
      }
    },
    {
      "cell_type": "code",
      "source": [
        "set1 = {\"a\", \"b\" , \"c\"}\n",
        "set2 = {1, 2, 3}\n",
        "\n",
        "set1.update(set2)\n",
        "print(set1)"
      ],
      "metadata": {
        "colab": {
          "base_uri": "https://localhost:8080/"
        },
        "id": "FEYEVycSEerz",
        "outputId": "4cc246a7-0c80-4bfa-f19e-ea943a77cf2f"
      },
      "execution_count": 152,
      "outputs": [
        {
          "output_type": "stream",
          "name": "stdout",
          "text": [
            "{1, 2, 3, 'b', 'a', 'c'}\n"
          ]
        }
      ]
    },
    {
      "cell_type": "markdown",
      "source": [
        "**difference**"
      ],
      "metadata": {
        "id": "3s8bttz5EqXJ"
      }
    },
    {
      "cell_type": "code",
      "source": [
        "set1 = {1, 2, 3, 4, 5}\n",
        "set2 = {3, 4, 5, 6, 7}\n",
        "\n",
        "difference_set = set1.difference(set2)\n",
        "\n",
        "print(\"Elements in set1 but not in set2:\", difference_set)\n"
      ],
      "metadata": {
        "colab": {
          "base_uri": "https://localhost:8080/"
        },
        "id": "x9gv_MOnE0nl",
        "outputId": "8159aacd-9ec6-4aae-b367-1fbcb511fb19"
      },
      "execution_count": 153,
      "outputs": [
        {
          "output_type": "stream",
          "name": "stdout",
          "text": [
            "Elements in set1 but not in set2: {1, 2}\n"
          ]
        }
      ]
    },
    {
      "cell_type": "markdown",
      "source": [
        "**difference and update**"
      ],
      "metadata": {
        "id": "mLqWTD18FDgU"
      }
    },
    {
      "cell_type": "code",
      "source": [
        "set1 = {1, 2, 3, 4, 5}\n",
        "set2 = {3, 4, 5, 6, 7}\n",
        "\n",
        "set1.difference_update(set2)\n",
        "\n",
        "print(\"Updated set1 after difference_update:\", set1)"
      ],
      "metadata": {
        "colab": {
          "base_uri": "https://localhost:8080/"
        },
        "id": "zvA0_HS9FAAe",
        "outputId": "299c6e5d-009c-4905-f0ee-c7283c553c22"
      },
      "execution_count": 154,
      "outputs": [
        {
          "output_type": "stream",
          "name": "stdout",
          "text": [
            "Updated set1 after difference_update: {1, 2}\n"
          ]
        }
      ]
    },
    {
      "cell_type": "markdown",
      "source": [
        "**discard**"
      ],
      "metadata": {
        "id": "tFIPpAljFVcn"
      }
    },
    {
      "cell_type": "code",
      "source": [
        "my_set = {1, 2, 3, 4, 5}\n",
        "\n",
        "# Remove element 3 from the set\n",
        "my_set.discard(3)\n",
        "\n",
        "print(\"Set after discarding 3:\", my_set)\n",
        "\n",
        "# Trying to discard an element not in the set\n",
        "my_set.discard(6)\n",
        "\n",
        "print(\"Set after discarding 6 (not in set):\", my_set)\n"
      ],
      "metadata": {
        "colab": {
          "base_uri": "https://localhost:8080/"
        },
        "id": "OMxDgIE-FXRt",
        "outputId": "20e37d67-d5c2-4a23-dc75-ee85507f7fde"
      },
      "execution_count": 155,
      "outputs": [
        {
          "output_type": "stream",
          "name": "stdout",
          "text": [
            "Set after discarding 3: {1, 2, 4, 5}\n",
            "Set after discarding 6 (not in set): {1, 2, 4, 5}\n"
          ]
        }
      ]
    },
    {
      "cell_type": "markdown",
      "source": [
        "**intersection**"
      ],
      "metadata": {
        "id": "ovfIZmkbFbYz"
      }
    },
    {
      "cell_type": "code",
      "source": [
        "set1 = {1, 2, 3, 4, 5}\n",
        "set2 = {3, 4, 5, 6, 7}\n",
        "\n",
        "# Find the intersection of set1 and set2\n",
        "intersection_set = set1.intersection(set2)\n",
        "\n",
        "print(\"Intersection of set1 and set2:\", intersection_set)\n"
      ],
      "metadata": {
        "colab": {
          "base_uri": "https://localhost:8080/"
        },
        "id": "NTzupsyiFeN-",
        "outputId": "9a605aa2-3dce-4fbb-e37e-b4b30d412ee9"
      },
      "execution_count": 156,
      "outputs": [
        {
          "output_type": "stream",
          "name": "stdout",
          "text": [
            "Intersection of set1 and set2: {3, 4, 5}\n"
          ]
        }
      ]
    },
    {
      "cell_type": "markdown",
      "source": [
        "**intersection_update()**"
      ],
      "metadata": {
        "id": "Vl_q4XxgF9lL"
      }
    },
    {
      "cell_type": "code",
      "source": [
        "set1 = {1, 2, 3, 4, 5}\n",
        "set2 = {3, 4, 5, 6, 7}\n",
        "\n",
        "# Keep only the elements that are common to set1 and set2\n",
        "set1.intersection_update(set2)\n",
        "\n",
        "print(\"Updated set1 after intersection_update:\", set1)\n"
      ],
      "metadata": {
        "colab": {
          "base_uri": "https://localhost:8080/"
        },
        "id": "Evu2r5xCF-sb",
        "outputId": "4a4ccea9-7327-4745-fed0-f4c0678cd5df"
      },
      "execution_count": 157,
      "outputs": [
        {
          "output_type": "stream",
          "name": "stdout",
          "text": [
            "Updated set1 after intersection_update: {3, 4, 5}\n"
          ]
        }
      ]
    },
    {
      "cell_type": "markdown",
      "source": [
        "**isdisjoint()**"
      ],
      "metadata": {
        "id": "kehA_UNQGFCm"
      }
    },
    {
      "cell_type": "code",
      "source": [
        "set1 = {1, 2, 3}\n",
        "set2 = {4, 5, 6}\n",
        "\n",
        "# Check if set1 and set2 are disjoint\n",
        "result = set1.isdisjoint(set2)\n",
        "\n",
        "print(\"Are set1 and set2 disjoint?\", result)\n"
      ],
      "metadata": {
        "colab": {
          "base_uri": "https://localhost:8080/"
        },
        "id": "q0x2rJuiGGeN",
        "outputId": "cbf52e23-25c9-48e0-cb2d-ed64f32b405d"
      },
      "execution_count": 158,
      "outputs": [
        {
          "output_type": "stream",
          "name": "stdout",
          "text": [
            "Are set1 and set2 disjoint? True\n"
          ]
        }
      ]
    },
    {
      "cell_type": "markdown",
      "source": [
        "**issubset()issubset()**"
      ],
      "metadata": {
        "id": "xgfetQ8UGRCe"
      }
    },
    {
      "cell_type": "code",
      "source": [
        "set1 = {1, 2, 3}\n",
        "set2 = {1, 2, 3, 4, 5}\n",
        "\n",
        "# Check if set1 is a subset of set2\n",
        "result = set1.issubset(set2)\n",
        "\n",
        "print(\"Is set1 a subset of set2?\", result)\n"
      ],
      "metadata": {
        "colab": {
          "base_uri": "https://localhost:8080/"
        },
        "id": "-KMN7WNDGS10",
        "outputId": "48e38d87-9895-40b2-8f12-d123d53e6797"
      },
      "execution_count": 159,
      "outputs": [
        {
          "output_type": "stream",
          "name": "stdout",
          "text": [
            "Is set1 a subset of set2? True\n"
          ]
        }
      ]
    },
    {
      "cell_type": "markdown",
      "source": [
        "**issuperset()**"
      ],
      "metadata": {
        "id": "9Vhj8FWUGcwv"
      }
    },
    {
      "cell_type": "code",
      "source": [
        "set1 = {1, 2, 3, 4, 5}\n",
        "set2 = {1, 2, 3}\n",
        "\n",
        "# Check if set1 is a superset of set2\n",
        "result = set1.issuperset(set2)\n",
        "\n",
        "print(\"Is set1 a superset of set2?\", result)\n"
      ],
      "metadata": {
        "colab": {
          "base_uri": "https://localhost:8080/"
        },
        "id": "w9932N6NGeDo",
        "outputId": "146cdc56-ea32-49bc-eac7-489c67c6d294"
      },
      "execution_count": 160,
      "outputs": [
        {
          "output_type": "stream",
          "name": "stdout",
          "text": [
            "Is set1 a superset of set2? True\n"
          ]
        }
      ]
    },
    {
      "cell_type": "markdown",
      "source": [
        "**symmetric_difference()**"
      ],
      "metadata": {
        "id": "S9imsYFXGvwS"
      }
    },
    {
      "cell_type": "code",
      "source": [
        "set1 = {1, 2, 3, 4}\n",
        "set2 = {3, 4, 5, 6}\n",
        "\n",
        "# Find the symmetric difference between set1 and set2\n",
        "symmetric_difference_set = set1.symmetric_difference(set2)\n",
        "\n",
        "print(\"Symmetric difference between set1 and set2:\", symmetric_difference_set)\n"
      ],
      "metadata": {
        "colab": {
          "base_uri": "https://localhost:8080/"
        },
        "id": "4to-BQeOGxUX",
        "outputId": "46725164-192d-426d-f5d5-90f33eb789d1"
      },
      "execution_count": 161,
      "outputs": [
        {
          "output_type": "stream",
          "name": "stdout",
          "text": [
            "Symmetric difference between set1 and set2: {1, 2, 5, 6}\n"
          ]
        }
      ]
    },
    {
      "cell_type": "markdown",
      "source": [
        "** symmetric_difference_update()\t**\n",
        "\n",
        "\n"
      ],
      "metadata": {
        "id": "ntugLRZFG3UU"
      }
    },
    {
      "cell_type": "code",
      "source": [
        "set1 = {1, 2, 3, 4}\n",
        "set2 = {3, 4, 5, 6}\n",
        "\n",
        "# Update set1 with the symmetric difference between set1 and set2\n",
        "set1.symmetric_difference_update(set2)\n",
        "\n",
        "print(\"Updated set1 after symmetric_difference_update:\", set1)\n"
      ],
      "metadata": {
        "colab": {
          "base_uri": "https://localhost:8080/"
        },
        "id": "wIlj9EBnG4qD",
        "outputId": "3cccef85-226f-4120-99b4-4683a19f835b"
      },
      "execution_count": 162,
      "outputs": [
        {
          "output_type": "stream",
          "name": "stdout",
          "text": [
            "Updated set1 after symmetric_difference_update: {1, 2, 5, 6}\n"
          ]
        }
      ]
    }
  ]
}